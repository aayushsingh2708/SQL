{
    "metadata": {
        "kernelspec": {
            "name": "SQL",
            "display_name": "SQL",
            "language": "sql"
        },
        "language_info": {
            "name": "sql",
            "version": ""
        }
    },
    "nbformat_minor": 2,
    "nbformat": 4,
    "cells": [
        {
            "cell_type": "markdown",
            "source": [
                "# **25 SQL Tips and Tricks**\n",
                "\n",
                "_(Note: Only selected the Top 5 rows_ _as you asked us to return minimal rows for publishing)_"
            ],
            "metadata": {
                "azdata_cell_guid": "ecc79c06-279f-44df-b144-689dd534196c"
            },
            "attachments": {}
        },
        {
            "cell_type": "markdown",
            "source": [
                "## 1\\. Selecting Top N Rows"
            ],
            "metadata": {
                "azdata_cell_guid": "adaa3b0c-01d1-4cbb-9d59-6dbd319a0dea"
            },
            "attachments": {}
        },
        {
            "cell_type": "code",
            "source": [
                "SELECT TOP 5 ProductName, Price \r\n",
                "FROM Products\r\n",
                "ORDER BY Price DESC;"
            ],
            "metadata": {
                "azdata_cell_guid": "f80d7016-f4b9-4e52-adbf-33944fe6eb36",
                "language": "sql",
                "tags": []
            },
            "outputs": [
                {
                    "output_type": "display_data",
                    "data": {
                        "text/html": "(5 rows affected)"
                    },
                    "metadata": {}
                },
                {
                    "output_type": "display_data",
                    "data": {
                        "text/html": "Total execution time: 00:00:00.018"
                    },
                    "metadata": {}
                },
                {
                    "output_type": "execute_result",
                    "metadata": {},
                    "execution_count": 3,
                    "data": {
                        "application/vnd.dataresource+json": {
                            "schema": {
                                "fields": [
                                    {
                                        "name": "ProductName"
                                    },
                                    {
                                        "name": "Price"
                                    }
                                ]
                            },
                            "data": [
                                {
                                    "ProductName": "Côte de Blaye",
                                    "Price": "263.50"
                                },
                                {
                                    "ProductName": "Thüringer Rostbratwurst",
                                    "Price": "123.79"
                                },
                                {
                                    "ProductName": "Mishi Kobe Niku",
                                    "Price": "97.00"
                                },
                                {
                                    "ProductName": "Sir Rodney's Marmalade",
                                    "Price": "81.00"
                                },
                                {
                                    "ProductName": "Carnarvon Tigers",
                                    "Price": "62.50"
                                }
                            ]
                        },
                        "text/html": [
                            "<table>",
                            "<tr><th>ProductName</th><th>Price</th></tr>",
                            "<tr><td>Côte de Blaye</td><td>263.50</td></tr>",
                            "<tr><td>Thüringer Rostbratwurst</td><td>123.79</td></tr>",
                            "<tr><td>Mishi Kobe Niku</td><td>97.00</td></tr>",
                            "<tr><td>Sir Rodney&#39;s Marmalade</td><td>81.00</td></tr>",
                            "<tr><td>Carnarvon Tigers</td><td>62.50</td></tr>",
                            "</table>"
                        ]
                    }
                }
            ],
            "execution_count": 3
        },
        {
            "cell_type": "markdown",
            "source": [
                "_Use Case: Returning the top 5 most expensive products.  \n",
                "Explanation: Limited the number of returned rows to minimize data._"
            ],
            "metadata": {
                "azdata_cell_guid": "55a45548-017b-46b6-975f-3ed48df89117"
            },
            "attachments": {}
        },
        {
            "cell_type": "markdown",
            "source": [
                "## 2\\. Using Aliases for Better Readability"
            ],
            "metadata": {
                "azdata_cell_guid": "68e9428c-9b30-4638-9aa9-5d3002a98f02"
            },
            "attachments": {}
        },
        {
            "cell_type": "code",
            "source": [
                "SELECT TOP 5 P.ProductName AS Product, C.CategoryName AS Category\r\n",
                "FROM Products P\r\n",
                "JOIN Categories C ON P.CategoryID = C.CategoryID;"
            ],
            "metadata": {
                "azdata_cell_guid": "a2da53da-7392-4302-8d89-d4fef293ff04",
                "language": "sql"
            },
            "outputs": [
                {
                    "output_type": "display_data",
                    "data": {
                        "text/html": "(5 rows affected)"
                    },
                    "metadata": {}
                },
                {
                    "output_type": "display_data",
                    "data": {
                        "text/html": "Total execution time: 00:00:00.026"
                    },
                    "metadata": {}
                },
                {
                    "output_type": "execute_result",
                    "metadata": {},
                    "execution_count": 4,
                    "data": {
                        "application/vnd.dataresource+json": {
                            "schema": {
                                "fields": [
                                    {
                                        "name": "Product"
                                    },
                                    {
                                        "name": "Category"
                                    }
                                ]
                            },
                            "data": [
                                {
                                    "Product": "Chais",
                                    "Category": "Beverages"
                                },
                                {
                                    "Product": "Chang",
                                    "Category": "Beverages"
                                },
                                {
                                    "Product": "Aniseed Syrup",
                                    "Category": "Condiments"
                                },
                                {
                                    "Product": "Chef Anton's Cajun Seasoning",
                                    "Category": "Condiments"
                                },
                                {
                                    "Product": "Chef Anton's Gumbo Mix",
                                    "Category": "Condiments"
                                }
                            ]
                        },
                        "text/html": [
                            "<table>",
                            "<tr><th>Product</th><th>Category</th></tr>",
                            "<tr><td>Chais</td><td>Beverages</td></tr>",
                            "<tr><td>Chang</td><td>Beverages</td></tr>",
                            "<tr><td>Aniseed Syrup</td><td>Condiments</td></tr>",
                            "<tr><td>Chef Anton&#39;s Cajun Seasoning</td><td>Condiments</td></tr>",
                            "<tr><td>Chef Anton&#39;s Gumbo Mix</td><td>Condiments</td></tr>",
                            "</table>"
                        ]
                    }
                }
            ],
            "execution_count": 4
        },
        {
            "cell_type": "markdown",
            "source": [
                "_Use Case: Simplifying long table or columns names.  \n",
                "Explanation: Using AS to rename columns or tables improves clarity and readability._"
            ],
            "metadata": {
                "azdata_cell_guid": "81741949-1e27-4594-a81b-50077aeb2045"
            },
            "attachments": {}
        },
        {
            "cell_type": "markdown",
            "source": [
                "## 3\\. Filtering with WHERE Clause"
            ],
            "metadata": {
                "azdata_cell_guid": "80c7b98e-b988-4162-9a3c-64eab12a482e"
            },
            "attachments": {}
        },
        {
            "cell_type": "code",
            "source": [
                "SELECT TOP 5 CustomerName, Country\r\n",
                "FROM Customers\r\n",
                "WHERE Country = 'Germany';"
            ],
            "metadata": {
                "azdata_cell_guid": "d173054e-7012-43df-aaf5-3ec1d6fbd4bd",
                "language": "sql"
            },
            "outputs": [
                {
                    "output_type": "display_data",
                    "data": {
                        "text/html": "(5 rows affected)"
                    },
                    "metadata": {}
                },
                {
                    "output_type": "display_data",
                    "data": {
                        "text/html": "Total execution time: 00:00:00.033"
                    },
                    "metadata": {}
                },
                {
                    "output_type": "execute_result",
                    "execution_count": 5,
                    "data": {
                        "application/vnd.dataresource+json": {
                            "schema": {
                                "fields": [
                                    {
                                        "name": "CustomerName"
                                    },
                                    {
                                        "name": "Country"
                                    }
                                ]
                            },
                            "data": [
                                {
                                    "CustomerName": "Alfreds Futterkiste",
                                    "Country": "Germany"
                                },
                                {
                                    "CustomerName": "Blauer See Delikatessen",
                                    "Country": "Germany"
                                },
                                {
                                    "CustomerName": "Drachenblut Delikatessend",
                                    "Country": "Germany"
                                },
                                {
                                    "CustomerName": "Frankenversand",
                                    "Country": "Germany"
                                },
                                {
                                    "CustomerName": "Königlich Essen",
                                    "Country": "Germany"
                                }
                            ]
                        },
                        "text/html": "<table><tr><th>CustomerName</th><th>Country</th></tr><tr><td>Alfreds Futterkiste</td><td>Germany</td></tr><tr><td>Blauer See Delikatessen</td><td>Germany</td></tr><tr><td>Drachenblut Delikatessend</td><td>Germany</td></tr><tr><td>Frankenversand</td><td>Germany</td></tr><tr><td>Königlich Essen</td><td>Germany</td></tr></table>"
                    },
                    "metadata": {}
                }
            ],
            "execution_count": 5
        },
        {
            "cell_type": "markdown",
            "source": [
                "_Use Case: Filtering Customers from a specific country.  \n",
                "Explanation: Using WHERE Clause to return targeted rows._"
            ],
            "metadata": {
                "azdata_cell_guid": "f54420ea-3ec8-4137-b270-fa054cf99e00"
            },
            "attachments": {}
        },
        {
            "cell_type": "markdown",
            "source": [
                "## 4\\. Aggregate Function(SUM)"
            ],
            "metadata": {
                "azdata_cell_guid": "c217bc91-f4fb-4736-bebc-4d2728a2cd97"
            },
            "attachments": {}
        },
        {
            "cell_type": "code",
            "source": [
                "SELECT TOP 5 OrderID, SUM(Quantity) AS TotalQuantity\r\n",
                "FROM OrderDetails\r\n",
                "GROUP BY OrderID;"
            ],
            "metadata": {
                "azdata_cell_guid": "98076683-32d6-49c6-9599-0f4755d60c58",
                "language": "sql"
            },
            "outputs": [
                {
                    "output_type": "display_data",
                    "data": {
                        "text/html": "(5 rows affected)"
                    },
                    "metadata": {}
                },
                {
                    "output_type": "display_data",
                    "data": {
                        "text/html": "Total execution time: 00:00:00.017"
                    },
                    "metadata": {}
                },
                {
                    "output_type": "execute_result",
                    "execution_count": 6,
                    "data": {
                        "application/vnd.dataresource+json": {
                            "schema": {
                                "fields": [
                                    {
                                        "name": "OrderID"
                                    },
                                    {
                                        "name": "TotalQuantity"
                                    }
                                ]
                            },
                            "data": [
                                {
                                    "OrderID": "10248",
                                    "TotalQuantity": "27"
                                },
                                {
                                    "OrderID": "10249",
                                    "TotalQuantity": "49"
                                },
                                {
                                    "OrderID": "10250",
                                    "TotalQuantity": "60"
                                },
                                {
                                    "OrderID": "10251",
                                    "TotalQuantity": "41"
                                },
                                {
                                    "OrderID": "10252",
                                    "TotalQuantity": "105"
                                }
                            ]
                        },
                        "text/html": "<table><tr><th>OrderID</th><th>TotalQuantity</th></tr><tr><td>10248</td><td>27</td></tr><tr><td>10249</td><td>49</td></tr><tr><td>10250</td><td>60</td></tr><tr><td>10251</td><td>41</td></tr><tr><td>10252</td><td>105</td></tr></table>"
                    },
                    "metadata": {}
                }
            ],
            "execution_count": 6
        },
        {
            "cell_type": "markdown",
            "source": [
                "_Use Case: Finding total Quantity of all products in an order.  \n",
                "Explanation: Using SUM to calculate total values._"
            ],
            "metadata": {
                "azdata_cell_guid": "a68e9e52-9334-4c48-85be-722a699f18de"
            },
            "attachments": {}
        },
        {
            "cell_type": "markdown",
            "source": [
                "## 5\\. Using DISTINCT"
            ],
            "metadata": {
                "azdata_cell_guid": "6293ed1b-c771-428e-b995-69a68513104a"
            },
            "attachments": {}
        },
        {
            "cell_type": "code",
            "source": [
                "SELECT DISTINCT TOP 5 City\r\n",
                "FROM Customers;"
            ],
            "metadata": {
                "azdata_cell_guid": "448efc42-c31b-4c85-ab77-b09f41841eec",
                "language": "sql"
            },
            "outputs": [
                {
                    "output_type": "display_data",
                    "data": {
                        "text/html": "(5 rows affected)"
                    },
                    "metadata": {}
                },
                {
                    "output_type": "display_data",
                    "data": {
                        "text/html": "Total execution time: 00:00:00.013"
                    },
                    "metadata": {}
                },
                {
                    "output_type": "execute_result",
                    "metadata": {},
                    "execution_count": 5,
                    "data": {
                        "application/vnd.dataresource+json": {
                            "schema": {
                                "fields": [
                                    {
                                        "name": "City"
                                    }
                                ]
                            },
                            "data": [
                                {
                                    "City": "Aachen"
                                },
                                {
                                    "City": "Albuquerque"
                                },
                                {
                                    "City": "Anchorage"
                                },
                                {
                                    "City": "Århus"
                                },
                                {
                                    "City": "Barcelona"
                                }
                            ]
                        },
                        "text/html": [
                            "<table>",
                            "<tr><th>City</th></tr>",
                            "<tr><td>Aachen</td></tr>",
                            "<tr><td>Albuquerque</td></tr>",
                            "<tr><td>Anchorage</td></tr>",
                            "<tr><td>Århus</td></tr>",
                            "<tr><td>Barcelona</td></tr>",
                            "</table>"
                        ]
                    }
                }
            ],
            "execution_count": 5
        },
        {
            "cell_type": "markdown",
            "source": [
                "_Use Case: Returning unique Cities of Customers.  \n",
                "Explanation: Removing Duplicate using DISTINCT_"
            ],
            "metadata": {
                "azdata_cell_guid": "9a196663-9c9b-4a06-aaf6-62a2693f1ce0"
            },
            "attachments": {}
        },
        {
            "cell_type": "markdown",
            "source": [
                "# 6\\. String Pattern Matching with LIKE"
            ],
            "metadata": {
                "azdata_cell_guid": "6aca4eb9-1ee7-465b-aa30-06b491026167"
            },
            "attachments": {}
        },
        {
            "cell_type": "code",
            "source": [
                "SELECT CustomerName\r\n",
                "FROM Customers\r\n",
                "WHERE CustomerName LIKE 'A%';"
            ],
            "metadata": {
                "azdata_cell_guid": "f71336ba-60ef-4c37-b40a-83b83b23661c",
                "language": "sql"
            },
            "outputs": [
                {
                    "output_type": "display_data",
                    "data": {
                        "text/html": "(4 rows affected)"
                    },
                    "metadata": {}
                },
                {
                    "output_type": "display_data",
                    "data": {
                        "text/html": "Total execution time: 00:00:00.004"
                    },
                    "metadata": {}
                },
                {
                    "output_type": "execute_result",
                    "execution_count": 9,
                    "data": {
                        "application/vnd.dataresource+json": {
                            "schema": {
                                "fields": [
                                    {
                                        "name": "CustomerName"
                                    }
                                ]
                            },
                            "data": [
                                {
                                    "CustomerName": "Alfreds Futterkiste"
                                },
                                {
                                    "CustomerName": "Ana Trujillo Emparedados y helados"
                                },
                                {
                                    "CustomerName": "Antonio Moreno Taquería"
                                },
                                {
                                    "CustomerName": "Around the Horn"
                                }
                            ]
                        },
                        "text/html": "<table><tr><th>CustomerName</th></tr><tr><td>Alfreds Futterkiste</td></tr><tr><td>Ana Trujillo Emparedados y helados</td></tr><tr><td>Antonio Moreno Taquería</td></tr><tr><td>Around the Horn</td></tr></table>"
                    },
                    "metadata": {}
                }
            ],
            "execution_count": 9
        },
        {
            "cell_type": "markdown",
            "source": [
                "_Use Case: Finding all the customers with names starting with 'A'.  \n",
                "Explanation: LIKE supports partial matches._"
            ],
            "metadata": {
                "azdata_cell_guid": "f19ef15c-ed9a-4ee5-b087-037258aae946"
            },
            "attachments": {}
        },
        {
            "cell_type": "markdown",
            "source": [
                "## 7\\. Sorting Data with ORDER BY"
            ],
            "metadata": {
                "azdata_cell_guid": "8e6a86a4-60f8-4fd4-ba05-57dd9ef578ee"
            },
            "attachments": {}
        },
        {
            "cell_type": "code",
            "source": [
                "SELECT TOP 5 SupplierName, City\r\n",
                "FROM Suppliers\r\n",
                "ORDER BY City ASC;"
            ],
            "metadata": {
                "azdata_cell_guid": "8db69ea3-2922-4156-a0f2-f080523e3247",
                "language": "sql"
            },
            "outputs": [
                {
                    "output_type": "display_data",
                    "data": {
                        "text/html": "(5 rows affected)"
                    },
                    "metadata": {}
                },
                {
                    "output_type": "display_data",
                    "data": {
                        "text/html": "Total execution time: 00:00:00.012"
                    },
                    "metadata": {}
                },
                {
                    "output_type": "execute_result",
                    "execution_count": 10,
                    "data": {
                        "application/vnd.dataresource+json": {
                            "schema": {
                                "fields": [
                                    {
                                        "name": "SupplierName"
                                    },
                                    {
                                        "name": "City"
                                    }
                                ]
                            },
                            "data": [
                                {
                                    "SupplierName": "Grandma Kelly's Homestead",
                                    "City": "Ann Arbor"
                                },
                                {
                                    "SupplierName": "Gai pâturage",
                                    "City": "Annecy"
                                },
                                {
                                    "SupplierName": "Bigfoot Breweries",
                                    "City": "Bend"
                                },
                                {
                                    "SupplierName": "Heli Süßwaren GmbH & Co. KG",
                                    "City": "Berlin"
                                },
                                {
                                    "SupplierName": "New England Seafood Cannery",
                                    "City": "Boston"
                                }
                            ]
                        },
                        "text/html": "<table><tr><th>SupplierName</th><th>City</th></tr><tr><td>Grandma Kelly&#39;s Homestead</td><td>Ann Arbor</td></tr><tr><td>Gai pâturage</td><td>Annecy</td></tr><tr><td>Bigfoot Breweries</td><td>Bend</td></tr><tr><td>Heli Süßwaren GmbH &amp; Co. KG</td><td>Berlin</td></tr><tr><td>New England Seafood Cannery</td><td>Boston</td></tr></table>"
                    },
                    "metadata": {}
                }
            ],
            "execution_count": 10
        },
        {
            "cell_type": "markdown",
            "source": [
                "_Use Case: Order Suppliers by City Name.  \n",
                "Explanation: ORDER BY arranges data in a specific order(In this case-by CIty Name)_"
            ],
            "metadata": {
                "azdata_cell_guid": "fedcf2b6-6ab9-4984-9770-bb10cbeb869b"
            },
            "attachments": {}
        },
        {
            "cell_type": "markdown",
            "source": [
                "## 8\\. Date Filtering"
            ],
            "metadata": {
                "azdata_cell_guid": "f7256d63-09a3-4829-bfaf-d89604107f2a"
            },
            "attachments": {}
        },
        {
            "cell_type": "code",
            "source": [
                "SELECT OrderID, OrderDate\r\n",
                "FROM Orders\r\n",
                "WHERE OrderDate BETWEEN '1996-07-04' AND '1996-07-09';"
            ],
            "metadata": {
                "azdata_cell_guid": "01b116a4-6623-420c-8dc1-29af6d5db889",
                "language": "sql"
            },
            "outputs": [
                {
                    "output_type": "display_data",
                    "data": {
                        "text/html": "(5 rows affected)"
                    },
                    "metadata": {}
                },
                {
                    "output_type": "display_data",
                    "data": {
                        "text/html": "Total execution time: 00:00:00.009"
                    },
                    "metadata": {}
                },
                {
                    "output_type": "execute_result",
                    "execution_count": 17,
                    "data": {
                        "application/vnd.dataresource+json": {
                            "schema": {
                                "fields": [
                                    {
                                        "name": "OrderID"
                                    },
                                    {
                                        "name": "OrderDate"
                                    }
                                ]
                            },
                            "data": [
                                {
                                    "OrderID": "10248",
                                    "OrderDate": "1996-07-04"
                                },
                                {
                                    "OrderID": "10249",
                                    "OrderDate": "1996-07-05"
                                },
                                {
                                    "OrderID": "10250",
                                    "OrderDate": "1996-07-08"
                                },
                                {
                                    "OrderID": "10251",
                                    "OrderDate": "1996-07-08"
                                },
                                {
                                    "OrderID": "10252",
                                    "OrderDate": "1996-07-09"
                                }
                            ]
                        },
                        "text/html": "<table><tr><th>OrderID</th><th>OrderDate</th></tr><tr><td>10248</td><td>1996-07-04</td></tr><tr><td>10249</td><td>1996-07-05</td></tr><tr><td>10250</td><td>1996-07-08</td></tr><tr><td>10251</td><td>1996-07-08</td></tr><tr><td>10252</td><td>1996-07-09</td></tr></table>"
                    },
                    "metadata": {}
                }
            ],
            "execution_count": 17
        },
        {
            "cell_type": "markdown",
            "source": [
                "_Use Case: Retreiving Orders Made in a specific time.  \n",
                "Explanation: Filtering rows based on date values._"
            ],
            "metadata": {
                "azdata_cell_guid": "73bdf98e-ce29-4d6d-aa2c-0c8019acb8a5"
            },
            "attachments": {}
        },
        {
            "cell_type": "markdown",
            "source": [
                "## 9\\. Combining Rows with UNION"
            ],
            "metadata": {
                "azdata_cell_guid": "75b37549-95a6-4ce0-b948-78b2d671c3b6"
            },
            "attachments": {}
        },
        {
            "cell_type": "code",
            "source": [
                "SELECT TOP 3 City FROM Customers\r\n",
                "UNION\r\n",
                "SELECT TOP 3 City FROM Suppliers;"
            ],
            "metadata": {
                "azdata_cell_guid": "be7f12b2-3b51-4d1c-8c01-39dd5c88f447",
                "language": "sql"
            },
            "outputs": [
                {
                    "output_type": "display_data",
                    "data": {
                        "text/html": "(5 rows affected)"
                    },
                    "metadata": {}
                },
                {
                    "output_type": "display_data",
                    "data": {
                        "text/html": "Total execution time: 00:00:00.019"
                    },
                    "metadata": {}
                },
                {
                    "output_type": "execute_result",
                    "metadata": {},
                    "execution_count": 8,
                    "data": {
                        "application/vnd.dataresource+json": {
                            "schema": {
                                "fields": [
                                    {
                                        "name": "City"
                                    }
                                ]
                            },
                            "data": [
                                {
                                    "City": "Ann Arbor"
                                },
                                {
                                    "City": "Berlin"
                                },
                                {
                                    "City": "Londona"
                                },
                                {
                                    "City": "México D.F."
                                },
                                {
                                    "City": "New Orleans"
                                }
                            ]
                        },
                        "text/html": [
                            "<table>",
                            "<tr><th>City</th></tr>",
                            "<tr><td>Ann Arbor</td></tr>",
                            "<tr><td>Berlin</td></tr>",
                            "<tr><td>Londona</td></tr>",
                            "<tr><td>México D.F.</td></tr>",
                            "<tr><td>New Orleans</td></tr>",
                            "</table>"
                        ]
                    }
                }
            ],
            "execution_count": 8
        },
        {
            "cell_type": "markdown",
            "source": [
                "_Use Case: Combining customer and supplier cities.  \n",
                "Explanation: UNION merges results while removing the duplicates._"
            ],
            "metadata": {
                "azdata_cell_guid": "f67f92a9-f415-42c0-8fc1-f79e9e41b512"
            },
            "attachments": {}
        },
        {
            "cell_type": "markdown",
            "source": [
                "## 10\\. Joining Multiple Tables"
            ],
            "metadata": {
                "azdata_cell_guid": "40635a78-9917-4a18-9a4b-bc733dd160f4"
            },
            "attachments": {}
        },
        {
            "cell_type": "code",
            "source": [
                "SELECT TOP 5 P.ProductName, C.CategoryName, S.SupplierName\r\n",
                "FROM Products P\r\n",
                "JOIN Categories C ON P.CategoryID = C.CategoryID\r\n",
                "JOIN Suppliers S ON P.SupplierID = S.SupplierID;"
            ],
            "metadata": {
                "azdata_cell_guid": "eee175fd-7979-430a-b022-f4fea6cf382a",
                "language": "sql"
            },
            "outputs": [
                {
                    "output_type": "display_data",
                    "data": {
                        "text/html": "(5 rows affected)"
                    },
                    "metadata": {}
                },
                {
                    "output_type": "display_data",
                    "data": {
                        "text/html": "Total execution time: 00:00:00.014"
                    },
                    "metadata": {}
                },
                {
                    "output_type": "execute_result",
                    "execution_count": 22,
                    "data": {
                        "application/vnd.dataresource+json": {
                            "schema": {
                                "fields": [
                                    {
                                        "name": "ProductName"
                                    },
                                    {
                                        "name": "CategoryName"
                                    },
                                    {
                                        "name": "SupplierName"
                                    }
                                ]
                            },
                            "data": [
                                {
                                    "ProductName": "Chais",
                                    "CategoryName": "Beverages",
                                    "SupplierName": "Exotic Liquid"
                                },
                                {
                                    "ProductName": "Chang",
                                    "CategoryName": "Beverages",
                                    "SupplierName": "Exotic Liquid"
                                },
                                {
                                    "ProductName": "Aniseed Syrup",
                                    "CategoryName": "Condiments",
                                    "SupplierName": "Exotic Liquid"
                                },
                                {
                                    "ProductName": "Chef Anton's Cajun Seasoning",
                                    "CategoryName": "Condiments",
                                    "SupplierName": "New Orleans Cajun Delights"
                                },
                                {
                                    "ProductName": "Chef Anton's Gumbo Mix",
                                    "CategoryName": "Condiments",
                                    "SupplierName": "New Orleans Cajun Delights"
                                }
                            ]
                        },
                        "text/html": "<table><tr><th>ProductName</th><th>CategoryName</th><th>SupplierName</th></tr><tr><td>Chais</td><td>Beverages</td><td>Exotic Liquid</td></tr><tr><td>Chang</td><td>Beverages</td><td>Exotic Liquid</td></tr><tr><td>Aniseed Syrup</td><td>Condiments</td><td>Exotic Liquid</td></tr><tr><td>Chef Anton&#39;s Cajun Seasoning</td><td>Condiments</td><td>New Orleans Cajun Delights</td></tr><tr><td>Chef Anton&#39;s Gumbo Mix</td><td>Condiments</td><td>New Orleans Cajun Delights</td></tr></table>"
                    },
                    "metadata": {}
                }
            ],
            "execution_count": 22
        },
        {
            "cell_type": "markdown",
            "source": [
                "_Use Case: Getting Product, Category and Supplier information.  \n",
                "Explanation: JOIN bring related data from multiple tables._"
            ],
            "metadata": {
                "azdata_cell_guid": "4e442f97-e449-4724-bb16-6d4859d6d682"
            },
            "attachments": {}
        },
        {
            "cell_type": "markdown",
            "source": [
                "## 11\\. Calculationg Average with AVG Function"
            ],
            "metadata": {
                "azdata_cell_guid": "107e9d62-c393-4240-a3f1-dcfbf17c0c18"
            },
            "attachments": {}
        },
        {
            "cell_type": "code",
            "source": [
                "SELECT AVG(Price) AS AvgPrice\r\n",
                "FROM Products;"
            ],
            "metadata": {
                "azdata_cell_guid": "0cf3693e-3d8d-4b44-922e-9b29f5a9905b",
                "language": "sql"
            },
            "outputs": [
                {
                    "output_type": "display_data",
                    "data": {
                        "text/html": "(1 row affected)"
                    },
                    "metadata": {}
                },
                {
                    "output_type": "display_data",
                    "data": {
                        "text/html": "Total execution time: 00:00:00.007"
                    },
                    "metadata": {}
                },
                {
                    "output_type": "execute_result",
                    "execution_count": 24,
                    "data": {
                        "application/vnd.dataresource+json": {
                            "schema": {
                                "fields": [
                                    {
                                        "name": "AvgPrice"
                                    }
                                ]
                            },
                            "data": [
                                {
                                    "AvgPrice": "28.8663"
                                }
                            ]
                        },
                        "text/html": "<table><tr><th>AvgPrice</th></tr><tr><td>28.8663</td></tr></table>"
                    },
                    "metadata": {}
                }
            ],
            "execution_count": 24
        },
        {
            "cell_type": "markdown",
            "source": [
                "_Use Case: Finding the average product price.  \n",
                "Explanation: Using AVG to compute Average Values._"
            ],
            "metadata": {
                "azdata_cell_guid": "a7b7230f-b491-4cf6-9e3c-be38f535e54d"
            },
            "attachments": {}
        },
        {
            "cell_type": "markdown",
            "source": [
                "## 12\\. Grouping Data with GROUP BY"
            ],
            "metadata": {
                "azdata_cell_guid": "6700ab2d-5a01-4289-9654-242b53a1da41"
            },
            "attachments": {}
        },
        {
            "cell_type": "code",
            "source": [
                "SELECT TOP 5 CategoryID, COUNT(ProductID) AS ProductCount\r\n",
                "FROM Products\r\n",
                "GROUP BY CategoryID;"
            ],
            "metadata": {
                "azdata_cell_guid": "3656fb51-e388-432a-a171-65f2edd4fd12",
                "language": "sql"
            },
            "outputs": [
                {
                    "output_type": "display_data",
                    "data": {
                        "text/html": "(5 rows affected)"
                    },
                    "metadata": {}
                },
                {
                    "output_type": "display_data",
                    "data": {
                        "text/html": "Total execution time: 00:00:00.007"
                    },
                    "metadata": {}
                },
                {
                    "output_type": "execute_result",
                    "metadata": {},
                    "execution_count": 10,
                    "data": {
                        "application/vnd.dataresource+json": {
                            "schema": {
                                "fields": [
                                    {
                                        "name": "CategoryID"
                                    },
                                    {
                                        "name": "ProductCount"
                                    }
                                ]
                            },
                            "data": [
                                {
                                    "CategoryID": "1",
                                    "ProductCount": "12"
                                },
                                {
                                    "CategoryID": "2",
                                    "ProductCount": "12"
                                },
                                {
                                    "CategoryID": "3",
                                    "ProductCount": "13"
                                },
                                {
                                    "CategoryID": "4",
                                    "ProductCount": "10"
                                },
                                {
                                    "CategoryID": "5",
                                    "ProductCount": "7"
                                }
                            ]
                        },
                        "text/html": [
                            "<table>",
                            "<tr><th>CategoryID</th><th>ProductCount</th></tr>",
                            "<tr><td>1</td><td>12</td></tr>",
                            "<tr><td>2</td><td>12</td></tr>",
                            "<tr><td>3</td><td>13</td></tr>",
                            "<tr><td>4</td><td>10</td></tr>",
                            "<tr><td>5</td><td>7</td></tr>",
                            "</table>"
                        ]
                    }
                }
            ],
            "execution_count": 10
        },
        {
            "cell_type": "markdown",
            "source": [
                "_Use Case: Grouped Products by Category and counted them.  \n",
                "Explanation: GROUP BY is used for aggregations._"
            ],
            "metadata": {
                "azdata_cell_guid": "26c7777d-c9b1-460e-92fd-4c27684797b6"
            },
            "attachments": {}
        },
        {
            "cell_type": "markdown",
            "source": [
                "## 13\\. Filtering Groups with HAVING"
            ],
            "metadata": {
                "azdata_cell_guid": "50b27547-58c7-4e0b-92bc-f868b01aea74"
            },
            "attachments": {}
        },
        {
            "cell_type": "code",
            "source": [
                "SELECT CategoryID, COUNT(ProductID) AS ProductCount\r\n",
                "FROM Products\r\n",
                "GROUP BY CategoryID\r\n",
                "HAVING COUNT(ProductID) > 10;"
            ],
            "metadata": {
                "azdata_cell_guid": "ab7ce669-011b-49eb-bccb-1d67c0e5c178",
                "language": "sql"
            },
            "outputs": [
                {
                    "output_type": "display_data",
                    "data": {
                        "text/html": "(4 rows affected)"
                    },
                    "metadata": {}
                },
                {
                    "output_type": "display_data",
                    "data": {
                        "text/html": "Total execution time: 00:00:00.016"
                    },
                    "metadata": {}
                },
                {
                    "output_type": "execute_result",
                    "execution_count": 26,
                    "data": {
                        "application/vnd.dataresource+json": {
                            "schema": {
                                "fields": [
                                    {
                                        "name": "CategoryID"
                                    },
                                    {
                                        "name": "ProductCount"
                                    }
                                ]
                            },
                            "data": [
                                {
                                    "CategoryID": "1",
                                    "ProductCount": "12"
                                },
                                {
                                    "CategoryID": "2",
                                    "ProductCount": "12"
                                },
                                {
                                    "CategoryID": "3",
                                    "ProductCount": "13"
                                },
                                {
                                    "CategoryID": "8",
                                    "ProductCount": "12"
                                }
                            ]
                        },
                        "text/html": "<table><tr><th>CategoryID</th><th>ProductCount</th></tr><tr><td>1</td><td>12</td></tr><tr><td>2</td><td>12</td></tr><tr><td>3</td><td>13</td></tr><tr><td>8</td><td>12</td></tr></table>"
                    },
                    "metadata": {}
                }
            ],
            "execution_count": 26
        },
        {
            "cell_type": "markdown",
            "source": [
                "_Use Case: Showing Categories with more than 10 Products.  \n",
                "Explanation: HAVING filters grouped data._"
            ],
            "metadata": {
                "azdata_cell_guid": "5a046024-7496-417a-8518-e8bf91a2d945"
            },
            "attachments": {}
        },
        {
            "cell_type": "markdown",
            "source": [
                "## 14\\. Handling Null Values with \"IS NULL\""
            ],
            "metadata": {
                "azdata_cell_guid": "84fe0504-6dae-4703-9a39-e7e1264bbe11"
            },
            "attachments": {}
        },
        {
            "cell_type": "code",
            "source": [
                "SELECT CustomerName, PostalCode\r\n",
                "FROM Customers\r\n",
                "WHERE PostalCode IS NULL;"
            ],
            "metadata": {
                "azdata_cell_guid": "c4743dc9-ff63-4628-90a2-441c02fd776c",
                "language": "sql"
            },
            "outputs": [
                {
                    "output_type": "display_data",
                    "data": {
                        "text/html": "(1 row affected)"
                    },
                    "metadata": {}
                },
                {
                    "output_type": "display_data",
                    "data": {
                        "text/html": "Total execution time: 00:00:00.020"
                    },
                    "metadata": {}
                },
                {
                    "output_type": "execute_result",
                    "execution_count": 27,
                    "data": {
                        "application/vnd.dataresource+json": {
                            "schema": {
                                "fields": [
                                    {
                                        "name": "CustomerName"
                                    },
                                    {
                                        "name": "PostalCode"
                                    }
                                ]
                            },
                            "data": [
                                {
                                    "CustomerName": "Hungry Owl All-Night Grocers",
                                    "PostalCode": "NULL"
                                }
                            ]
                        },
                        "text/html": "<table><tr><th>CustomerName</th><th>PostalCode</th></tr><tr><td>Hungry Owl All-Night Grocers</td><td>NULL</td></tr></table>"
                    },
                    "metadata": {}
                }
            ],
            "execution_count": 27
        },
        {
            "cell_type": "markdown",
            "source": [
                "_Use Case: Finding Customers without Postal Codes.  \n",
                "Explanation: Detect NULL values in your data._"
            ],
            "metadata": {
                "azdata_cell_guid": "76b3e6fe-b02a-435b-9f34-c0c91d37bd5a"
            },
            "attachments": {}
        },
        {
            "cell_type": "markdown",
            "source": [
                "## 15\\. Conditional Logic with CASE"
            ],
            "metadata": {
                "azdata_cell_guid": "a52d6f33-e9fc-4a9d-a1c9-a8158d3b992c"
            },
            "attachments": {}
        },
        {
            "cell_type": "code",
            "source": [
                "SELECT TOP 5 OrderID,\r\n",
                "       CASE \r\n",
                "           WHEN Quantity > 10 THEN 'Large'\r\n",
                "           ELSE 'Small'\r\n",
                "       END AS OrderSize\r\n",
                "FROM OrderDetails;"
            ],
            "metadata": {
                "azdata_cell_guid": "243db2b4-8336-4e2d-b875-d0da27a9a9c5",
                "language": "sql"
            },
            "outputs": [
                {
                    "output_type": "display_data",
                    "data": {
                        "text/html": "(5 rows affected)"
                    },
                    "metadata": {}
                },
                {
                    "output_type": "display_data",
                    "data": {
                        "text/html": "Total execution time: 00:00:00.024"
                    },
                    "metadata": {}
                },
                {
                    "output_type": "execute_result",
                    "metadata": {},
                    "execution_count": 11,
                    "data": {
                        "application/vnd.dataresource+json": {
                            "schema": {
                                "fields": [
                                    {
                                        "name": "OrderID"
                                    },
                                    {
                                        "name": "OrderSize"
                                    }
                                ]
                            },
                            "data": [
                                {
                                    "OrderID": "10248",
                                    "OrderSize": "Large"
                                },
                                {
                                    "OrderID": "10248",
                                    "OrderSize": "Small"
                                },
                                {
                                    "OrderID": "10248",
                                    "OrderSize": "Small"
                                },
                                {
                                    "OrderID": "10249",
                                    "OrderSize": "Small"
                                },
                                {
                                    "OrderID": "10249",
                                    "OrderSize": "Large"
                                }
                            ]
                        },
                        "text/html": [
                            "<table>",
                            "<tr><th>OrderID</th><th>OrderSize</th></tr>",
                            "<tr><td>10248</td><td>Large</td></tr>",
                            "<tr><td>10248</td><td>Small</td></tr>",
                            "<tr><td>10248</td><td>Small</td></tr>",
                            "<tr><td>10249</td><td>Small</td></tr>",
                            "<tr><td>10249</td><td>Large</td></tr>",
                            "</table>"
                        ]
                    }
                }
            ],
            "execution_count": 11
        },
        {
            "cell_type": "markdown",
            "source": [
                "_Use Case: Labeling Orders as 'Large' or 'Small' based on quantity.  \n",
                "Explanation: CASE introduces conditional logic within queries_"
            ],
            "metadata": {
                "azdata_cell_guid": "2829cf71-c54a-4aef-aa06-1ebd25d14591"
            },
            "attachments": {}
        },
        {
            "cell_type": "markdown",
            "source": [
                "## 16\\. Subqueries for Complex Queries"
            ],
            "metadata": {
                "azdata_cell_guid": "8eaef269-011c-44c1-84f3-04326045f257"
            },
            "attachments": {}
        },
        {
            "cell_type": "code",
            "source": [
                "SELECT CustomerName\r\n",
                "FROM Customers\r\n",
                "WHERE CustomerID IN (\r\n",
                "    SELECT CustomerID \r\n",
                "    FROM Orders \r\n",
                "    GROUP BY CustomerID\r\n",
                "    HAVING COUNT(OrderID) > 5\r\n",
                ");"
            ],
            "metadata": {
                "azdata_cell_guid": "80877454-6f9b-485c-aa95-3930387119d8",
                "language": "sql"
            },
            "outputs": [
                {
                    "output_type": "display_data",
                    "data": {
                        "text/html": "(6 rows affected)"
                    },
                    "metadata": {}
                },
                {
                    "output_type": "display_data",
                    "data": {
                        "text/html": "Total execution time: 00:00:00.026"
                    },
                    "metadata": {}
                },
                {
                    "output_type": "execute_result",
                    "execution_count": 33,
                    "data": {
                        "application/vnd.dataresource+json": {
                            "schema": {
                                "fields": [
                                    {
                                        "name": "CustomerName"
                                    }
                                ]
                            },
                            "data": [
                                {
                                    "CustomerName": "Ernst Handel"
                                },
                                {
                                    "CustomerName": "Hungry Owl All-Night Grocers"
                                },
                                {
                                    "CustomerName": "QUICK-Stop"
                                },
                                {
                                    "CustomerName": "Rattlesnake Canyon Grocery"
                                },
                                {
                                    "CustomerName": "Split Rail Beer & Ale"
                                },
                                {
                                    "CustomerName": "Wartian Herkku"
                                }
                            ]
                        },
                        "text/html": "<table><tr><th>CustomerName</th></tr><tr><td>Ernst Handel</td></tr><tr><td>Hungry Owl All-Night Grocers</td></tr><tr><td>QUICK-Stop</td></tr><tr><td>Rattlesnake Canyon Grocery</td></tr><tr><td>Split Rail Beer &amp; Ale</td></tr><tr><td>Wartian Herkku</td></tr></table>"
                    },
                    "metadata": {}
                }
            ],
            "execution_count": 33
        },
        {
            "cell_type": "markdown",
            "source": [
                "_Use Case: Finding customers who have placed more than 5 orders.  \n",
                "Explanation: Subqueries can be used to break down complex logic. Here, a subquery counts the number of_ _orders per customer, and the outer query retrieves only those customers who have placed more than 5 orders._"
            ],
            "metadata": {
                "azdata_cell_guid": "3b29742e-9833-4521-97a2-2565b84c4eb5"
            },
            "attachments": {}
        },
        {
            "cell_type": "markdown",
            "source": [
                "## 17\\. Using EXISTS for Efficient Subqueries"
            ],
            "metadata": {
                "azdata_cell_guid": "3d13da3e-d7ea-43a3-939f-137f4d32dfe0"
            },
            "attachments": {}
        },
        {
            "cell_type": "code",
            "source": [
                "SELECT TOP 5 SupplierName\r\n",
                "FROM Suppliers\r\n",
                "WHERE EXISTS (SELECT 1 FROM Products WHERE Products.SupplierID = Suppliers.SupplierID);"
            ],
            "metadata": {
                "azdata_cell_guid": "8d5eec4f-7a94-4785-9038-9e39ddb646a5",
                "language": "sql"
            },
            "outputs": [
                {
                    "output_type": "display_data",
                    "data": {
                        "text/html": "(5 rows affected)"
                    },
                    "metadata": {}
                },
                {
                    "output_type": "display_data",
                    "data": {
                        "text/html": "Total execution time: 00:00:00.031"
                    },
                    "metadata": {}
                },
                {
                    "output_type": "execute_result",
                    "metadata": {},
                    "execution_count": 12,
                    "data": {
                        "application/vnd.dataresource+json": {
                            "schema": {
                                "fields": [
                                    {
                                        "name": "SupplierName"
                                    }
                                ]
                            },
                            "data": [
                                {
                                    "SupplierName": "Exotic Liquid"
                                },
                                {
                                    "SupplierName": "New Orleans Cajun Delights"
                                },
                                {
                                    "SupplierName": "Grandma Kelly's Homestead"
                                },
                                {
                                    "SupplierName": "Tokyo Traders"
                                },
                                {
                                    "SupplierName": "Cooperativa de Quesos 'Las Cabras'"
                                }
                            ]
                        },
                        "text/html": [
                            "<table>",
                            "<tr><th>SupplierName</th></tr>",
                            "<tr><td>Exotic Liquid</td></tr>",
                            "<tr><td>New Orleans Cajun Delights</td></tr>",
                            "<tr><td>Grandma Kelly&#39;s Homestead</td></tr>",
                            "<tr><td>Tokyo Traders</td></tr>",
                            "<tr><td>Cooperativa de Quesos &#39;Las Cabras&#39;</td></tr>",
                            "</table>"
                        ]
                    }
                }
            ],
            "execution_count": 12
        },
        {
            "cell_type": "markdown",
            "source": [
                "_Use Case: Checking if any suppliers exist in a particular city.  \n",
                "Explanation: EXISTS is more efficient for large datasets._"
            ],
            "metadata": {
                "azdata_cell_guid": "52700029-bae3-4cfd-9982-8d943ec4ebe9"
            },
            "attachments": {}
        },
        {
            "cell_type": "markdown",
            "source": [
                "## 18\\. Self Joins"
            ],
            "metadata": {
                "azdata_cell_guid": "d7e234f1-b00b-49a1-8414-7bf67b566e92"
            },
            "attachments": {}
        },
        {
            "cell_type": "code",
            "source": [
                "SELECT TOP 5 C1.CustomerName, C2.CustomerName\r\n",
                "FROM Customers C1\r\n",
                "JOIN Customers C2 ON C1.City = C2.City AND C1.CustomerID <> C2.CustomerID;"
            ],
            "metadata": {
                "azdata_cell_guid": "9869042e-8c4c-458d-bdd9-28c3f6080ee3",
                "language": "sql"
            },
            "outputs": [
                {
                    "output_type": "display_data",
                    "data": {
                        "text/html": "(5 rows affected)"
                    },
                    "metadata": {}
                },
                {
                    "output_type": "display_data",
                    "data": {
                        "text/html": "Total execution time: 00:00:00.022"
                    },
                    "metadata": {}
                },
                {
                    "output_type": "execute_result",
                    "metadata": {},
                    "execution_count": 14,
                    "data": {
                        "application/vnd.dataresource+json": {
                            "schema": {
                                "fields": [
                                    {
                                        "name": "CustomerName"
                                    },
                                    {
                                        "name": "CustomerName"
                                    }
                                ]
                            },
                            "data": [
                                {
                                    "CustomerName": "Ana Trujillo Emparedados y helados"
                                },
                                {
                                    "CustomerName": "Ana Trujillo Emparedados y helados"
                                },
                                {
                                    "CustomerName": "Ana Trujillo Emparedados y helados"
                                },
                                {
                                    "CustomerName": "Ana Trujillo Emparedados y helados"
                                },
                                {
                                    "CustomerName": "Antonio Moreno Taquería"
                                }
                            ]
                        },
                        "text/html": [
                            "<table>",
                            "<tr><th>CustomerName</th><th>CustomerName</th></tr>",
                            "<tr><td>Antonio Moreno Taquería</td><td>Ana Trujillo Emparedados y helados</td></tr>",
                            "<tr><td>Centro comercial Moctezuma</td><td>Ana Trujillo Emparedados y helados</td></tr>",
                            "<tr><td>Pericles Comidas clásicas</td><td>Ana Trujillo Emparedados y helados</td></tr>",
                            "<tr><td>Tortuga Restaurante</td><td>Ana Trujillo Emparedados y helados</td></tr>",
                            "<tr><td>Ana Trujillo Emparedados y helados</td><td>Antonio Moreno Taquería</td></tr>",
                            "</table>"
                        ]
                    }
                }
            ],
            "execution_count": 14
        },
        {
            "cell_type": "markdown",
            "source": [
                "_Use Case: Finding customers located in the same city.  \n",
                "Explanation: Joining the same table for comparison._"
            ],
            "metadata": {
                "azdata_cell_guid": "1f98106e-7b9a-4557-a53b-ab5dc67c9b40"
            },
            "attachments": {}
        },
        {
            "cell_type": "markdown",
            "source": [
                "## 19\\. Using OUTER JOIN to include Non-matching Rows"
            ],
            "metadata": {
                "azdata_cell_guid": "af85c033-4742-46e4-b015-e291897893ce"
            },
            "attachments": {}
        },
        {
            "cell_type": "code",
            "source": [
                "SELECT TOP 5 P.ProductName, OD.OrderID\r\n",
                "FROM Products P\r\n",
                "LEFT JOIN OrderDetails OD ON P.ProductID = OD.ProductID;"
            ],
            "metadata": {
                "azdata_cell_guid": "89024f68-45f6-45f9-8620-9f4282464525",
                "language": "sql"
            },
            "outputs": [
                {
                    "output_type": "display_data",
                    "data": {
                        "text/html": "(5 rows affected)"
                    },
                    "metadata": {}
                },
                {
                    "output_type": "display_data",
                    "data": {
                        "text/html": "Total execution time: 00:00:00.019"
                    },
                    "metadata": {}
                },
                {
                    "output_type": "execute_result",
                    "metadata": {},
                    "execution_count": 15,
                    "data": {
                        "application/vnd.dataresource+json": {
                            "schema": {
                                "fields": [
                                    {
                                        "name": "ProductName"
                                    },
                                    {
                                        "name": "OrderID"
                                    }
                                ]
                            },
                            "data": [
                                {
                                    "ProductName": "Chais",
                                    "OrderID": "10285"
                                },
                                {
                                    "ProductName": "Chais",
                                    "OrderID": "10294"
                                },
                                {
                                    "ProductName": "Chais",
                                    "OrderID": "10317"
                                },
                                {
                                    "ProductName": "Chais",
                                    "OrderID": "10348"
                                },
                                {
                                    "ProductName": "Chais",
                                    "OrderID": "10354"
                                }
                            ]
                        },
                        "text/html": [
                            "<table>",
                            "<tr><th>ProductName</th><th>OrderID</th></tr>",
                            "<tr><td>Chais</td><td>10285</td></tr>",
                            "<tr><td>Chais</td><td>10294</td></tr>",
                            "<tr><td>Chais</td><td>10317</td></tr>",
                            "<tr><td>Chais</td><td>10348</td></tr>",
                            "<tr><td>Chais</td><td>10354</td></tr>",
                            "</table>"
                        ]
                    }
                }
            ],
            "execution_count": 15
        },
        {
            "cell_type": "markdown",
            "source": [
                "_Use Case: Finding all products and their orders, including products that haven't been ordered yet.  \n",
                "Explanation: LEFT JOIN returns all records from the left table and the matched records from the right table. If there is no match, NULL is returned._"
            ],
            "metadata": {
                "azdata_cell_guid": "730349b8-d983-4dc4-8631-2a2cb6622499"
            },
            "attachments": {}
        },
        {
            "cell_type": "markdown",
            "source": [
                "## 20\\. Finding Rows with NOT IN"
            ],
            "metadata": {
                "azdata_cell_guid": "43c229db-b79f-43e6-aca8-243498421135"
            },
            "attachments": {}
        },
        {
            "cell_type": "code",
            "source": [
                "SELECT TOP 5 CustomerName\r\n",
                "FROM Customers\r\n",
                "WHERE CustomerID NOT IN (SELECT CustomerID FROM Orders);"
            ],
            "metadata": {
                "azdata_cell_guid": "82f9ea70-bfa7-4026-8ee3-ba9572d75489",
                "language": "sql"
            },
            "outputs": [
                {
                    "output_type": "display_data",
                    "data": {
                        "text/html": "(5 rows affected)"
                    },
                    "metadata": {}
                },
                {
                    "output_type": "display_data",
                    "data": {
                        "text/html": "Total execution time: 00:00:00.018"
                    },
                    "metadata": {}
                },
                {
                    "output_type": "execute_result",
                    "metadata": {},
                    "execution_count": 16,
                    "data": {
                        "application/vnd.dataresource+json": {
                            "schema": {
                                "fields": [
                                    {
                                        "name": "CustomerName"
                                    }
                                ]
                            },
                            "data": [
                                {
                                    "CustomerName": "Alfreds Futterkiste"
                                },
                                {
                                    "CustomerName": "Blauer See Delikatessen"
                                },
                                {
                                    "CustomerName": "Cactus Comidas para llevar"
                                },
                                {
                                    "CustomerName": "FISSA Fabrica Inter. Salchichas S.A."
                                },
                                {
                                    "CustomerName": "France restauration"
                                }
                            ]
                        },
                        "text/html": [
                            "<table>",
                            "<tr><th>CustomerName</th></tr>",
                            "<tr><td>Alfreds Futterkiste</td></tr>",
                            "<tr><td>Blauer See Delikatessen</td></tr>",
                            "<tr><td>Cactus Comidas para llevar</td></tr>",
                            "<tr><td>FISSA Fabrica Inter. Salchichas S.A.</td></tr>",
                            "<tr><td>France restauration</td></tr>",
                            "</table>"
                        ]
                    }
                }
            ],
            "execution_count": 16
        },
        {
            "cell_type": "markdown",
            "source": [
                "_Use Case: Finding customers who have not placed any orders.  \n",
                "Explanation: NOT IN helps find records not matching a subquery._"
            ],
            "metadata": {
                "azdata_cell_guid": "ab2a00c0-10ed-4c88-9618-80d9a0e45e6e"
            },
            "attachments": {}
        },
        {
            "cell_type": "markdown",
            "source": [
                "## 21\\. Using ROW\\_NUMBER() for Ranking"
            ],
            "metadata": {
                "azdata_cell_guid": "d6387a42-1d00-4eab-937b-158329bbe42a"
            },
            "attachments": {}
        },
        {
            "cell_type": "code",
            "source": [
                "SELECT TOP 5 ProductName, Price, \r\n",
                "       ROW_NUMBER() OVER (ORDER BY Price DESC) AS Rank\r\n",
                "FROM Products;"
            ],
            "metadata": {
                "azdata_cell_guid": "3b102ca0-fbd1-4139-8bb4-0280894b526c",
                "language": "sql"
            },
            "outputs": [
                {
                    "output_type": "display_data",
                    "data": {
                        "text/html": "(5 rows affected)"
                    },
                    "metadata": {}
                },
                {
                    "output_type": "display_data",
                    "data": {
                        "text/html": "Total execution time: 00:00:00.013"
                    },
                    "metadata": {}
                },
                {
                    "output_type": "execute_result",
                    "metadata": {},
                    "execution_count": 17,
                    "data": {
                        "application/vnd.dataresource+json": {
                            "schema": {
                                "fields": [
                                    {
                                        "name": "ProductName"
                                    },
                                    {
                                        "name": "Price"
                                    },
                                    {
                                        "name": "Rank"
                                    }
                                ]
                            },
                            "data": [
                                {
                                    "ProductName": "Côte de Blaye",
                                    "Price": "263.50",
                                    "Rank": "1"
                                },
                                {
                                    "ProductName": "Thüringer Rostbratwurst",
                                    "Price": "123.79",
                                    "Rank": "2"
                                },
                                {
                                    "ProductName": "Mishi Kobe Niku",
                                    "Price": "97.00",
                                    "Rank": "3"
                                },
                                {
                                    "ProductName": "Sir Rodney's Marmalade",
                                    "Price": "81.00",
                                    "Rank": "4"
                                },
                                {
                                    "ProductName": "Carnarvon Tigers",
                                    "Price": "62.50",
                                    "Rank": "5"
                                }
                            ]
                        },
                        "text/html": [
                            "<table>",
                            "<tr><th>ProductName</th><th>Price</th><th>Rank</th></tr>",
                            "<tr><td>Côte de Blaye</td><td>263.50</td><td>1</td></tr>",
                            "<tr><td>Thüringer Rostbratwurst</td><td>123.79</td><td>2</td></tr>",
                            "<tr><td>Mishi Kobe Niku</td><td>97.00</td><td>3</td></tr>",
                            "<tr><td>Sir Rodney&#39;s Marmalade</td><td>81.00</td><td>4</td></tr>",
                            "<tr><td>Carnarvon Tigers</td><td>62.50</td><td>5</td></tr>",
                            "</table>"
                        ]
                    }
                }
            ],
            "execution_count": 17
        },
        {
            "cell_type": "markdown",
            "source": [
                "_Use Case: Ranking products based on price.  \n",
                "Explanation: ROW\\_NUMBER() assigns a unique row number within a partition._"
            ],
            "metadata": {
                "azdata_cell_guid": "93277a20-64df-4bb4-bc02-43f0f259da87"
            },
            "attachments": {}
        },
        {
            "cell_type": "markdown",
            "source": [
                "## 22\\. Using COUNT with CASE for Conditional Counts"
            ],
            "metadata": {
                "azdata_cell_guid": "478e7578-c558-4e3b-8440-72a0fcf84f9e"
            },
            "attachments": {}
        },
        {
            "cell_type": "code",
            "source": [
                "SELECT TOP 5 Country, \r\n",
                "       COUNT(CASE WHEN O.CustomerID IS NOT NULL THEN 1 END) AS CustomersWithOrders\r\n",
                "FROM Customers C\r\n",
                "LEFT JOIN Orders O ON C.CustomerID = O.CustomerID\r\n",
                "GROUP BY Country;"
            ],
            "metadata": {
                "azdata_cell_guid": "6b66fc17-2c22-41f6-8f5a-828277fc8454",
                "language": "sql"
            },
            "outputs": [
                {
                    "output_type": "display_data",
                    "data": {
                        "text/html": "Warning: Null value is eliminated by an aggregate or other SET operation."
                    },
                    "metadata": {}
                },
                {
                    "output_type": "display_data",
                    "data": {
                        "text/html": "(5 rows affected)"
                    },
                    "metadata": {}
                },
                {
                    "output_type": "display_data",
                    "data": {
                        "text/html": "Total execution time: 00:00:00.022"
                    },
                    "metadata": {}
                },
                {
                    "output_type": "execute_result",
                    "metadata": {},
                    "execution_count": 19,
                    "data": {
                        "application/vnd.dataresource+json": {
                            "schema": {
                                "fields": [
                                    {
                                        "name": "Country"
                                    },
                                    {
                                        "name": "CustomersWithOrders"
                                    }
                                ]
                            },
                            "data": [
                                {
                                    "Country": "Argentina",
                                    "CustomersWithOrders": "1"
                                },
                                {
                                    "Country": "Austria",
                                    "CustomersWithOrders": "13"
                                },
                                {
                                    "Country": "Belgium",
                                    "CustomersWithOrders": "2"
                                },
                                {
                                    "Country": "Brazil",
                                    "CustomersWithOrders": "19"
                                },
                                {
                                    "Country": "Canada",
                                    "CustomersWithOrders": "9"
                                }
                            ]
                        },
                        "text/html": [
                            "<table>",
                            "<tr><th>Country</th><th>CustomersWithOrders</th></tr>",
                            "<tr><td>Argentina</td><td>1</td></tr>",
                            "<tr><td>Austria</td><td>13</td></tr>",
                            "<tr><td>Belgium</td><td>2</td></tr>",
                            "<tr><td>Brazil</td><td>19</td></tr>",
                            "<tr><td>Canada</td><td>9</td></tr>",
                            "</table>"
                        ]
                    }
                }
            ],
            "execution_count": 19
        },
        {
            "cell_type": "markdown",
            "source": [
                "_Use Case: Counting the number of customers in each country who have placed an order.  \n",
                "Explanation: COUNT combined with CASE helps to count based on conditions._"
            ],
            "metadata": {
                "azdata_cell_guid": "edc70e1a-c78b-4c77-ad47-00210e12b4b5"
            },
            "attachments": {}
        },
        {
            "cell_type": "markdown",
            "source": [
                "## 23\\. Using IN for Multiple Values"
            ],
            "metadata": {
                "azdata_cell_guid": "cb125515-0104-46cc-bce3-0c813459be32"
            },
            "attachments": {}
        },
        {
            "cell_type": "code",
            "source": [
                "SELECT TOP 5 CustomerName, Country\r\n",
                "FROM Customers\r\n",
                "WHERE Country IN ('Germany', 'USA', 'UK');"
            ],
            "metadata": {
                "azdata_cell_guid": "40febaf0-9ba5-4f05-be1a-9eabddc114c2",
                "language": "sql"
            },
            "outputs": [
{
    "output_type": "display_data",
    "data": {
        "text/html": "(5 rows affected)"
    },
    "metadata": {}
}, {
    "output_type": "display_data",
    "data": {
        "text/html": "Total execution time: 00:00:00.014"
    },
    "metadata": {}
}, {
    "output_type": "execute_result",
    "metadata": {},
    "execution_count": 20,
    "data": {
        "application/vnd.dataresource+json": {
            "schema": {
                "fields": [
                    {
                        "name": "CustomerName"
                    },
                    {
                        "name": "Country"
                    }
                ]
            },
            "data": [
                {
                    "CustomerName": "Alfreds Futterkiste",
                    "Country": "Germany"
                },
                {
                    "CustomerName": "Around the Horn",
                    "Country": "UK"
                },
                {
                    "CustomerName": "Blauer See Delikatessen",
                    "Country": "Germany"
                },
                {
                    "CustomerName": "B's Beverages",
                    "Country": "UK"
                },
                {
                    "CustomerName": "Consolidated Holdings",
                    "Country": "UK"
                }
            ]
        },
        "text/html": [
            "<table>",
            "<tr><th>CustomerName</th><th>Country</th></tr>",
            "<tr><td>Alfreds Futterkiste</td><td>Germany</td></tr>",
            "<tr><td>Around the Horn</td><td>UK</td></tr>",
            "<tr><td>Blauer See Delikatessen</td><td>Germany</td></tr>",
            "<tr><td>B&#39;s Beverages</td><td>UK</td></tr>",
            "<tr><td>Consolidated Holdings</td><td>UK</td></tr>",
            "</table>"
        ]
    }
}
],
            "execution_count": 20
        },
        {
            "cell_type": "markdown",
            "source": [
                "_Use Case: Finding customers from specific countries.  \n",
                "Explanation: IN simplifies OR conditions._"
            ],
            "metadata": {
                "azdata_cell_guid": "a5fc7751-b9e8-4a5d-8e6e-bde2439e86be"
            },
            "attachments": {}
        },
        {
            "cell_type": "markdown",
            "source": [
                "## 24\\. Using AND to Filter Orders"
            ],
            "metadata": {
                "azdata_cell_guid": "b3e53df2-97ac-45c5-bec8-58e0487f902d"
            },
            "attachments": {}
        },
        {
            "cell_type": "code",
            "source": [
                "SELECT o.OrderID, c.CustomerName, s.ShipperName, o.OrderDate\r\n",
                "FROM Orders o\r\n",
                "JOIN Customers c ON o.CustomerID = c.CustomerID\r\n",
                "JOIN Shippers s ON o.ShipperID = s.ShipperID\r\n",
                "WHERE c.City = 'London' AND s.ShipperName = 'Speedy Express';"
            ],
            "metadata": {
                "azdata_cell_guid": "1969861a-3f98-44b3-8d31-9d6e9a937ddc",
                "language": "sql"
            },
            "outputs": [
                {
                    "output_type": "display_data",
                    "data": {
                        "text/html": "(3 rows affected)"
                    },
                    "metadata": {}
                },
                {
                    "output_type": "display_data",
                    "data": {
                        "text/html": "Total execution time: 00:00:00.021"
                    },
                    "metadata": {}
                },
                {
                    "output_type": "execute_result",
                    "execution_count": 49,
                    "data": {
                        "application/vnd.dataresource+json": {
                            "schema": {
                                "fields": [
                                    {
                                        "name": "OrderID"
                                    },
                                    {
                                        "name": "CustomerName"
                                    },
                                    {
                                        "name": "ShipperName"
                                    },
                                    {
                                        "name": "OrderDate"
                                    }
                                ]
                            },
                            "data": [
                                {
                                    "OrderID": "10355",
                                    "CustomerName": "Around the Horn",
                                    "ShipperName": "Speedy Express",
                                    "OrderDate": "1996-11-15"
                                },
                                {
                                    "OrderID": "10364",
                                    "CustomerName": "Eastern Connection",
                                    "ShipperName": "Speedy Express",
                                    "OrderDate": "1996-11-26"
                                },
                                {
                                    "OrderID": "10388",
                                    "CustomerName": "Seven Seas Imports",
                                    "ShipperName": "Speedy Express",
                                    "OrderDate": "1996-12-19"
                                }
                            ]
                        },
                        "text/html": "<table><tr><th>OrderID</th><th>CustomerName</th><th>ShipperName</th><th>OrderDate</th></tr><tr><td>10355</td><td>Around the Horn</td><td>Speedy Express</td><td>1996-11-15</td></tr><tr><td>10364</td><td>Eastern Connection</td><td>Speedy Express</td><td>1996-11-26</td></tr><tr><td>10388</td><td>Seven Seas Imports</td><td>Speedy Express</td><td>1996-12-19</td></tr></table>"
                    },
                    "metadata": {}
                }
            ],
            "execution_count": 49
        },
        {
            "cell_type": "markdown",
            "source": [
                "_Use Case: Retrieving details of orders placed by customers in a specific city and shipped by a specific shipper.  \n",
                "Explanation:_  \n",
                "\n",
                "- _<span style=\"color: var(--vscode-foreground);\">This query joins the Orders, Customers</span>  <span style=\"color: var(--vscode-foreground);\">&nbsp;and Shippers</span>  <span style=\"color: var(--vscode-foreground);\">&nbsp;tables to retrieve order details.<br>It filters the results to include only those orders made by customers in \"London\" and shipped by \"Speedy Express\".<br>The use of AND</span>_\n",
                "- <span style=\"color: var(--vscode-foreground);\"><i>It filters the results to include only those orders made by customers in \"London\" and shipped by \"Speedy Express\".</i></span>\n",
                "- _<span style=\"color: var(--vscode-foreground);\">The use of AND</span>  <span style=\"color: var(--vscode-foreground);\">&nbsp;allows for combining multiple conditions, ensuring that both criteria are met for the results.</span>_"
            ],
            "metadata": {
                "azdata_cell_guid": "aafc6111-8d61-4f0e-bd2e-48dd40572560"
            },
            "attachments": {}
        },
        {
            "cell_type": "markdown",
            "source": [
                "## 25\\. Using MIN and MAX to find Price Range"
            ],
            "metadata": {
                "azdata_cell_guid": "fa700e32-c2f6-489e-98c7-0c55cbb03137"
            },
            "attachments": {}
        },
        {
            "cell_type": "code",
            "source": [
                "SELECT c.CategoryName, MIN(p.Price) AS MinPrice, MAX(p.Price) AS MaxPrice\r\n",
                "FROM Products p\r\n",
                "JOIN Categories c ON p.CategoryID = c.CategoryID\r\n",
                "WHERE c.CategoryName = 'Beverages'\r\n",
                "GROUP BY c.CategoryName;"
            ],
            "metadata": {
                "azdata_cell_guid": "0fc20d12-b191-4dbc-96d5-b275af915fec",
                "language": "sql"
            },
            "outputs": [
                {
                    "output_type": "display_data",
                    "data": {
                        "text/html": "(1 row affected)"
                    },
                    "metadata": {}
                },
                {
                    "output_type": "display_data",
                    "data": {
                        "text/html": "Total execution time: 00:00:00.017"
                    },
                    "metadata": {}
                },
                {
                    "output_type": "execute_result",
                    "execution_count": 50,
                    "data": {
                        "application/vnd.dataresource+json": {
                            "schema": {
                                "fields": [
                                    {
                                        "name": "CategoryName"
                                    },
                                    {
                                        "name": "MinPrice"
                                    },
                                    {
                                        "name": "MaxPrice"
                                    }
                                ]
                            },
                            "data": [
                                {
                                    "CategoryName": "Beverages",
                                    "MinPrice": "4.50",
                                    "MaxPrice": "263.50"
                                }
                            ]
                        },
                        "text/html": "<table><tr><th>CategoryName</th><th>MinPrice</th><th>MaxPrice</th></tr><tr><td>Beverages</td><td>4.50</td><td>263.50</td></tr></table>"
                    },
                    "metadata": {}
                }
            ],
            "execution_count": 50
        },
        {
            "cell_type": "markdown",
            "source": [
                "Use Case: Find the minimum and maximum prices of products in a specific category.  \n",
                "Explanation:  \n",
                "- _This query joins the Products and Categories tables to find the minimum and maximum prices of products in the \"Beverages\" category._\n",
                "- _The MIN and MAX functions are used to calculate the price range of the products._\n",
                "- _By grouping the results by CategoryName, you ensure that the price range is specific to the \"Beverages\" category._\n",
                "- _This query is useful for quickly identifying price variations within a category, helping with pricing strategies._"
            ],
            "metadata": {
                "azdata_cell_guid": "01aecdaf-b567-4e07-93eb-9a590ab79956"
            },
            "attachments": {}
        }
    ]
}