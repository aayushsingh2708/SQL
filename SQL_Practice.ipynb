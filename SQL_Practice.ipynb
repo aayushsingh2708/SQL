{
    "metadata": {
        "kernelspec": {
            "name": "SQL",
            "display_name": "SQL",
            "language": "sql"
        },
        "language_info": {
            "name": "sql",
            "version": ""
        }
    },
    "nbformat_minor": 2,
    "nbformat": 4,
    "cells": [
        {
            "cell_type": "markdown",
            "source": [
                "# **25 SQL Tips and Tricks, Yayy!!** 🎉\n",
                "\n",
                "Hello, SQL enthusiasts! 👋 Ever wondered how to make the most out of SQL, add some sparkle ✨ to your queries, and impress everyone at the next SQL meetup? You've come to the right place!\n",
                "\n",
                "In this notebook, we’ll dive into SQL queries that range from easy to challenging—marked accordingly for all levels of learners! Each query includes an **elaborate explanation**, a **use case**.\n",
                "\n",
                "> **Note**: This tutorial uses the w3schools\\_tutor3 file available in the repository, so be sure to download that if you’re following along.\n",
                "\n",
                "Grab your coffee ☕, and let’s get started!"
            ],
            "metadata": {
                "azdata_cell_guid": "ecc79c06-279f-44df-b144-689dd534196c"
            },
            "attachments": {}
        },
        {
            "cell_type": "markdown",
            "source": [
                "## **<u>1\\. Selecting Top N Rows</u>**"
            ],
            "metadata": {
                "azdata_cell_guid": "adaa3b0c-01d1-4cbb-9d59-6dbd319a0dea"
            },
            "attachments": {}
        },
        {
            "cell_type": "markdown",
            "source": [
                "**Use Case:** Imagine you run an online store, and you want to display the priciest items to attract high-spending customers (or just for the \"wow\" factor!). This query pulls the top 5 most expensive products, letting you showcase those high-ticket items.\n",
                "\n",
                "**Explanation:**\n",
                "\n",
                "- SELECT TOP 5 limits the result to the first 5 rows. It’s like saying, “Hey, SQL, just give me a little taste!”\n",
                "- Product Name and Price are the columns we want to see in our result.\n",
                "- ORDER BY Price DESC sorts items by price, highest first. DESC stands for \"descending,\" so the most expensive products come up top. Without DESC, it would be ASC(ascending) by default, showing the cheapest items first.\n",
                "\n",
                "_(Did you know SQL is capable of making you feel like a data wizard? Summon the top results like a boss! 🧙‍♂️)_"
            ],
            "metadata": {
                "azdata_cell_guid": "68e9428c-9b30-4638-9aa9-5d3002a98f02"
            },
            "attachments": {}
        },
        {
            "cell_type": "markdown",
            "source": [
                "**CODE:**  \n",
                "\n",
                "<span style=\"color: #0000ff;\">SELECT</span> <span style=\"color: #0000ff;\">TOP</span> <span style=\"color: #09885a;\">5</span> ProductName, Price\n",
                "\n",
                "<span style=\"color: #0000ff;\">FROM</span> Products\n",
                "\n",
                "<span style=\"color: #0000ff;\">ORDER BY</span> Price <span style=\"color: #0000ff;\">DESC</span>;"
            ],
            "metadata": {
                "azdata_cell_guid": "3e7dc41a-f186-44e8-84f3-afae3ce4c22d"
            },
            "attachments": {}
        },
        {
            "cell_type": "code",
            "source": [
                "SELECT TOP 5 ProductName, Price \n",
                "FROM Products\n",
                "ORDER BY Price DESC;"
            ],
            "metadata": {
                "azdata_cell_guid": "f80d7016-f4b9-4e52-adbf-33944fe6eb36",
                "language": "sql",
                "tags": []
            },
            "outputs": [
                {
                    "output_type": "display_data",
                    "data": {
                        "text/html": "(5 rows affected)"
                    },
                    "metadata": {}
                },
                {
                    "output_type": "display_data",
                    "data": {
                        "text/html": "Total execution time: 00:00:00.018"
                    },
                    "metadata": {}
                },
                {
                    "output_type": "execute_result",
                    "execution_count": 3,
                    "data": {
                        "application/vnd.dataresource+json": {
                            "data": [
                                {
                                    "Price": "263.50",
                                    "ProductName": "Côte de Blaye"
                                },
                                {
                                    "Price": "123.79",
                                    "ProductName": "Thüringer Rostbratwurst"
                                },
                                {
                                    "Price": "97.00",
                                    "ProductName": "Mishi Kobe Niku"
                                },
                                {
                                    "Price": "81.00",
                                    "ProductName": "Sir Rodney's Marmalade"
                                },
                                {
                                    "Price": "62.50",
                                    "ProductName": "Carnarvon Tigers"
                                }
                            ],
                            "schema": {
                                "fields": [
                                    {
                                        "name": "ProductName"
                                    },
                                    {
                                        "name": "Price"
                                    }
                                ]
                            }
                        },
                        "text/html": "<table><tr><th>ProductName</th><th>Price</th></tr><tr><td>Côte de Blaye</td><td>263.50</td></tr><tr><td>Thüringer Rostbratwurst</td><td>123.79</td></tr><tr><td>Mishi Kobe Niku</td><td>97.00</td></tr><tr><td>Sir Rodney&#39;s Marmalade</td><td>81.00</td></tr><tr><td>Carnarvon Tigers</td><td>62.50</td></tr></table>"
                    },
                    "metadata": {}
                }
            ],
            "execution_count": 3
        },
        {
            "cell_type": "markdown",
            "source": [
                "## **<u>2\\. Using Aliases for Better Readability</u>**"
            ],
            "metadata": {
                "azdata_cell_guid": "1cb369d4-3a4a-4910-8cc4-d017a879c07b"
            },
            "attachments": {}
        },
        {
            "cell_type": "markdown",
            "source": [
                "**Use Case:** Let’s say you’re organizing a product catalog, and you want to quickly see the products with their categories. This query pairs each product with its category and shows the first 5 of them.\n",
                "\n",
                "**Explanation:**\n",
                "\n",
                "- P and C are table aliases (nicknames), so you don’t have to type Products and Categories repeatedly. Think of them as your query’s shorthand besties.\n",
                "- JOIN links Products with Categories, pairing each product with its category based on CategoryID. It’s like matchmaking between tables.\n",
                "- AS renames the output columns as Product and Category to make the results more readable.\n",
                "\n",
                "(Showcasing your star products like a proud parent at a school play—let’s give them the spotlight they deserve! 🌟🎭)"
            ],
            "metadata": {
                "azdata_cell_guid": "81741949-1e27-4594-a81b-50077aeb2045"
            },
            "attachments": {}
        },
        {
            "cell_type": "markdown",
            "source": [
                "**CODE:**\n",
                "\n",
                "<span style=\"color: #0000ff;\">SELECT</span> P.ProductName <span style=\"color: #0000ff;\">AS</span> Product, C.CategoryName <span style=\"color: #0000ff;\">AS</span> Category\n",
                "\n",
                "<span style=\"color: #0000ff;\">FROM</span> Products P\n",
                "\n",
                "<span style=\"color: #0000ff;\">JOIN</span> Categories C <span style=\"color: #0000ff;\">ON</span> P.CategoryID <span style=\"color: #000000;\">=</span> C.CategoryID;"
            ],
            "metadata": {
                "azdata_cell_guid": "5082da90-8643-4f6c-94a3-10cb609dfd81"
            },
            "attachments": {}
        },
        {
            "cell_type": "code",
            "source": [
                "SELECT TOP 5 P.ProductName AS Product, C.CategoryName AS Category\r\n",
                "FROM Products P\r\n",
                "JOIN Categories C ON P.CategoryID = C.CategoryID;"
            ],
            "metadata": {
                "azdata_cell_guid": "a2da53da-7392-4302-8d89-d4fef293ff04",
                "language": "sql"
            },
            "outputs": [
                {
                    "output_type": "display_data",
                    "data": {
                        "text/html": "(5 rows affected)"
                    },
                    "metadata": {}
                },
                {
                    "output_type": "display_data",
                    "data": {
                        "text/html": "Total execution time: 00:00:00.026"
                    },
                    "metadata": {}
                },
                {
                    "output_type": "execute_result",
                    "execution_count": 4,
                    "data": {
                        "application/vnd.dataresource+json": {
                            "data": [
                                {
                                    "Category": "Beverages",
                                    "Product": "Chais"
                                },
                                {
                                    "Category": "Beverages",
                                    "Product": "Chang"
                                },
                                {
                                    "Category": "Condiments",
                                    "Product": "Aniseed Syrup"
                                },
                                {
                                    "Category": "Condiments",
                                    "Product": "Chef Anton's Cajun Seasoning"
                                },
                                {
                                    "Category": "Condiments",
                                    "Product": "Chef Anton's Gumbo Mix"
                                }
                            ],
                            "schema": {
                                "fields": [
                                    {
                                        "name": "Product"
                                    },
                                    {
                                        "name": "Category"
                                    }
                                ]
                            }
                        },
                        "text/html": "<table><tr><th>Product</th><th>Category</th></tr><tr><td>Chais</td><td>Beverages</td></tr><tr><td>Chang</td><td>Beverages</td></tr><tr><td>Aniseed Syrup</td><td>Condiments</td></tr><tr><td>Chef Anton&#39;s Cajun Seasoning</td><td>Condiments</td></tr><tr><td>Chef Anton&#39;s Gumbo Mix</td><td>Condiments</td></tr></table>"
                    },
                    "metadata": {}
                }
            ],
            "execution_count": 4
        },
        {
            "cell_type": "markdown",
            "source": [
                "## **<u>3\\. Filtering with WHERE Clause</u>**"
            ],
            "metadata": {
                "azdata_cell_guid": "80c7b98e-b988-4162-9a3c-64eab12a482e"
            },
            "attachments": {}
        },
        {
            "cell_type": "markdown",
            "source": [
                "**Use Case:** This query is handy if you’re targeting customers from a specific region, like Germany. Need to send a local promotion or just see who’s in the area? Here’s your quick list.\n",
                "\n",
                "**Explanation:**\n",
                "\n",
                "- WHERE Country = 'Germany' filters the rows, showing only customers located in Germany. It’s like a “filter by country” button.\n",
                "\n",
                "(Let’s raise a glass to your customers in Germany—because every great business has its champions! 🍻)"
            ],
            "metadata": {
                "azdata_cell_guid": "f54420ea-3ec8-4137-b270-fa054cf99e00"
            },
            "attachments": {}
        },
        {
            "cell_type": "markdown",
            "source": [
                "**CODE:**\n",
                "\n",
                "<span style=\"color: #0000ff;\">SELECT</span> CustomerName, Country\n",
                "\n",
                "<span style=\"color: #0000ff;\">FROM</span> Customers\n",
                "\n",
                "<span style=\"color: #0000ff;\">WHERE</span> Country <span style=\"color: #000000;\">=</span> <span style=\"color: #a31515;\">'Germany'</span>;"
            ],
            "metadata": {
                "azdata_cell_guid": "5ab13fad-8e24-47d8-b462-797a0eb2ebb6"
            },
            "attachments": {}
        },
        {
            "cell_type": "code",
            "source": [
                "SELECT TOP 5 CustomerName, Country\r\n",
                "FROM Customers\r\n",
                "WHERE Country = 'Germany';"
            ],
            "metadata": {
                "azdata_cell_guid": "d173054e-7012-43df-aaf5-3ec1d6fbd4bd",
                "language": "sql"
            },
            "outputs": [
                {
                    "output_type": "display_data",
                    "data": {
                        "text/html": "(5 rows affected)"
                    },
                    "metadata": {}
                },
                {
                    "output_type": "display_data",
                    "data": {
                        "text/html": "Total execution time: 00:00:00.033"
                    },
                    "metadata": {}
                },
                {
                    "output_type": "execute_result",
                    "execution_count": 5,
                    "data": {
                        "application/vnd.dataresource+json": {
                            "data": [
                                {
                                    "Country": "Germany",
                                    "CustomerName": "Alfreds Futterkiste"
                                },
                                {
                                    "Country": "Germany",
                                    "CustomerName": "Blauer See Delikatessen"
                                },
                                {
                                    "Country": "Germany",
                                    "CustomerName": "Drachenblut Delikatessend"
                                },
                                {
                                    "Country": "Germany",
                                    "CustomerName": "Frankenversand"
                                },
                                {
                                    "Country": "Germany",
                                    "CustomerName": "Königlich Essen"
                                }
                            ],
                            "schema": {
                                "fields": [
                                    {
                                        "name": "CustomerName"
                                    },
                                    {
                                        "name": "Country"
                                    }
                                ]
                            }
                        },
                        "text/html": "<table><tr><th>CustomerName</th><th>Country</th></tr><tr><td>Alfreds Futterkiste</td><td>Germany</td></tr><tr><td>Blauer See Delikatessen</td><td>Germany</td></tr><tr><td>Drachenblut Delikatessend</td><td>Germany</td></tr><tr><td>Frankenversand</td><td>Germany</td></tr><tr><td>Königlich Essen</td><td>Germany</td></tr></table>"
                    },
                    "metadata": {}
                }
            ],
            "execution_count": 5
        },
        {
            "cell_type": "markdown",
            "source": [
                "## **<u>4\\. Aggregate Function(SUM)</u>**"
            ],
            "metadata": {
                "azdata_cell_guid": "c217bc91-f4fb-4736-bebc-4d2728a2cd97"
            },
            "attachments": {}
        },
        {
            "cell_type": "markdown",
            "source": [
                "**Use Case:**  \n",
                "Want to know how much of each item was ordered without scrolling through individual records? This query gives you a summary, with each order’s total quantity of items.\n",
                "\n",
                "**Explanation:**\n",
                "\n",
                "- SUM(Quantity) tallies up the quantity of items per OrderID.\n",
                "- GROUP BY Order clusters rows by order so that each order’s quantity is summed up individually.\n",
                "- AS TotalQuantity labels this summed-up column for clarity.\n",
                "\n",
                "(It's like counting the number of ice creams sold at a summer festival—let’s see which orders are serving up the biggest scoops! 🍦📊)"
            ],
            "metadata": {
                "azdata_cell_guid": "a68e9e52-9334-4c48-85be-722a699f18de"
            },
            "attachments": {}
        },
        {
            "cell_type": "markdown",
            "source": [
                "**CODE:**\n",
                "\n",
                "<span style=\"color: #0000ff;\">SELECT</span> OrderID, <span style=\"color: #795e26;\">SUM</span>(Quantity) <span style=\"color: #0000ff;\">AS</span> TotalQuantity\n",
                "\n",
                "<span style=\"color: #0000ff;\">FROM</span> OrderDetails\n",
                "\n",
                "<span style=\"color: #0000ff;\">GROUP BY</span> OrderID;"
            ],
            "metadata": {
                "azdata_cell_guid": "a3ebd1b1-388c-43fe-bb9b-77f32a125235"
            },
            "attachments": {}
        },
        {
            "cell_type": "code",
            "source": [
                "SELECT TOP 5 OrderID, SUM(Quantity) AS TotalQuantity\r\n",
                "FROM OrderDetails\r\n",
                "GROUP BY OrderID;"
            ],
            "metadata": {
                "azdata_cell_guid": "98076683-32d6-49c6-9599-0f4755d60c58",
                "language": "sql"
            },
            "outputs": [
                {
                    "output_type": "display_data",
                    "data": {
                        "text/html": "(5 rows affected)"
                    },
                    "metadata": {}
                },
                {
                    "output_type": "display_data",
                    "data": {
                        "text/html": "Total execution time: 00:00:00.017"
                    },
                    "metadata": {}
                },
                {
                    "output_type": "execute_result",
                    "execution_count": 6,
                    "data": {
                        "application/vnd.dataresource+json": {
                            "data": [
                                {
                                    "OrderID": "10248",
                                    "TotalQuantity": "27"
                                },
                                {
                                    "OrderID": "10249",
                                    "TotalQuantity": "49"
                                },
                                {
                                    "OrderID": "10250",
                                    "TotalQuantity": "60"
                                },
                                {
                                    "OrderID": "10251",
                                    "TotalQuantity": "41"
                                },
                                {
                                    "OrderID": "10252",
                                    "TotalQuantity": "105"
                                }
                            ],
                            "schema": {
                                "fields": [
                                    {
                                        "name": "OrderID"
                                    },
                                    {
                                        "name": "TotalQuantity"
                                    }
                                ]
                            }
                        },
                        "text/html": "<table><tr><th>OrderID</th><th>TotalQuantity</th></tr><tr><td>10248</td><td>27</td></tr><tr><td>10249</td><td>49</td></tr><tr><td>10250</td><td>60</td></tr><tr><td>10251</td><td>41</td></tr><tr><td>10252</td><td>105</td></tr></table>"
                    },
                    "metadata": {}
                }
            ],
            "execution_count": 6
        },
        {
            "cell_type": "markdown",
            "source": [
                "## **<u>5\\. Using DISTINCT</u>**"
            ],
            "metadata": {
                "azdata_cell_guid": "6293ed1b-c771-428e-b995-69a68513104a"
            },
            "attachments": {}
        },
        {
            "cell_type": "markdown",
            "source": [
                "**Use Case:**  \n",
                "If you’re curious about the unique cities your customers come from, this query provides a list of them. Perfect for market research or simply seeing where your reach is spreading!\n",
                "\n",
                "**Explanation:**\n",
                "\n",
                "- DISTINCT gives only unique city names, so there are no duplicates.\n",
                "\n",
                "(Think of it as a mini-world tour of your customer base—let’s see where your fans are hailing from! 🌍✈️)"
            ],
            "metadata": {
                "azdata_cell_guid": "9a196663-9c9b-4a06-aaf6-62a2693f1ce0"
            },
            "attachments": {}
        },
        {
            "cell_type": "markdown",
            "source": [
                "**CODE:**  \n",
                "  \n",
                "<span style=\"color: rgb(0, 0, 255);\">SELECT DISTINCT</span> <span style=\"color: var(--vscode-foreground);\">City</span>\n",
                "\n",
                "<span style=\"color: #0000ff;\">FROM</span> Customers;"
            ],
            "metadata": {
                "azdata_cell_guid": "4e847347-fedd-41b8-a6e3-3a1da293f53f"
            },
            "attachments": {}
        },
        {
            "cell_type": "code",
            "source": [
                "SELECT DISTINCT TOP 5 City\r\n",
                "FROM Customers;"
            ],
            "metadata": {
                "azdata_cell_guid": "448efc42-c31b-4c85-ab77-b09f41841eec",
                "language": "sql"
            },
            "outputs": [
                {
                    "output_type": "display_data",
                    "data": {
                        "text/html": "(5 rows affected)"
                    },
                    "metadata": {}
                },
                {
                    "output_type": "display_data",
                    "data": {
                        "text/html": "Total execution time: 00:00:00.013"
                    },
                    "metadata": {}
                },
                {
                    "output_type": "execute_result",
                    "execution_count": 5,
                    "data": {
                        "application/vnd.dataresource+json": {
                            "data": [
                                {
                                    "City": "Aachen"
                                },
                                {
                                    "City": "Albuquerque"
                                },
                                {
                                    "City": "Anchorage"
                                },
                                {
                                    "City": "Århus"
                                },
                                {
                                    "City": "Barcelona"
                                }
                            ],
                            "schema": {
                                "fields": [
                                    {
                                        "name": "City"
                                    }
                                ]
                            }
                        },
                        "text/html": "<table><tr><th>City</th></tr><tr><td>Aachen</td></tr><tr><td>Albuquerque</td></tr><tr><td>Anchorage</td></tr><tr><td>Århus</td></tr><tr><td>Barcelona</td></tr></table>"
                    },
                    "metadata": {}
                }
            ],
            "execution_count": 5
        },
        {
            "cell_type": "markdown",
            "source": [
                "# **<u>6\\. String Pattern Matching with LIKE</u>**"
            ],
            "metadata": {
                "azdata_cell_guid": "6aca4eb9-1ee7-465b-aa30-06b491026167"
            },
            "attachments": {}
        },
        {
            "cell_type": "markdown",
            "source": [
                "**Use Case:**  \n",
                "Need to find customers whose names start with \"A\"? This query will help by narrowing down a list of customers, ideal for personalized marketing or communication efforts targeting specific groups.\n",
                "\n",
                "**Explanation:**\n",
                "\n",
                "- SELECT CustomerName pulls the CustomerName column from the Customers table.\n",
                "- WHERE CustomerName LIKE 'A%' filters for names starting with \"A\":\n",
                "    - The LIKE keyword allows pattern matching.\n",
                "    - A% matches any name beginning with \"A\" followed by any number of characters, thanks to % (the wildcard for multiple characters).\n",
                "\n",
                "By using this query, you can easily pull data for a targeted subset without needing to sort through all entries manually. It’s a highly efficient way to filter names based on starting letters.\n",
                "\n",
                "(SQL's alphabet game is on! Here's your exclusive \"A-listers\" club.)"
            ],
            "metadata": {
                "azdata_cell_guid": "f19ef15c-ed9a-4ee5-b087-037258aae946"
            },
            "attachments": {}
        },
        {
            "cell_type": "markdown",
            "source": [
                "**CODE:**  \n",
                "\n",
                "<span style=\"color: #0000ff;\">SELECT</span> CustomerName\n",
                "\n",
                "<span style=\"color: #0000ff;\">FROM</span> Customers\n",
                "\n",
                "<span style=\"color: #0000ff;\">WHERE</span> CustomerName <span style=\"color: #0000ff;\">LIKE</span> <span style=\"color: #a31515;\">'A%'</span>;"
            ],
            "metadata": {
                "azdata_cell_guid": "b05ccc7a-a879-4c9a-a389-3ea85809bedc"
            },
            "attachments": {}
        },
        {
            "cell_type": "code",
            "source": [
                "SELECT CustomerName\r\n",
                "FROM Customers\r\n",
                "WHERE CustomerName LIKE 'A%';"
            ],
            "metadata": {
                "azdata_cell_guid": "f71336ba-60ef-4c37-b40a-83b83b23661c",
                "language": "sql"
            },
            "outputs": [
                {
                    "output_type": "display_data",
                    "data": {
                        "text/html": "(4 rows affected)"
                    },
                    "metadata": {}
                },
                {
                    "output_type": "display_data",
                    "data": {
                        "text/html": "Total execution time: 00:00:00.004"
                    },
                    "metadata": {}
                },
                {
                    "output_type": "execute_result",
                    "execution_count": 9,
                    "data": {
                        "application/vnd.dataresource+json": {
                            "data": [
                                {
                                    "CustomerName": "Alfreds Futterkiste"
                                },
                                {
                                    "CustomerName": "Ana Trujillo Emparedados y helados"
                                },
                                {
                                    "CustomerName": "Antonio Moreno Taquería"
                                },
                                {
                                    "CustomerName": "Around the Horn"
                                }
                            ],
                            "schema": {
                                "fields": [
                                    {
                                        "name": "CustomerName"
                                    }
                                ]
                            }
                        },
                        "text/html": "<table><tr><th>CustomerName</th></tr><tr><td>Alfreds Futterkiste</td></tr><tr><td>Ana Trujillo Emparedados y helados</td></tr><tr><td>Antonio Moreno Taquería</td></tr><tr><td>Around the Horn</td></tr></table>"
                    },
                    "metadata": {}
                }
            ],
            "execution_count": 9
        },
        {
            "cell_type": "markdown",
            "source": [
                "## **<u>7\\. Sorting Data with ORDER BY</u>**"
            ],
            "metadata": {
                "azdata_cell_guid": "8e6a86a4-60f8-4fd4-ba05-57dd9ef578ee"
            },
            "attachments": {}
        },
        {
            "cell_type": "markdown",
            "source": [
                "**Use Case:**  \n",
                "Looking for the first five suppliers in alphabetical order by city? This query delivers a tidy list, perfect if you’re interested in a quick view of suppliers based on location.\n",
                "\n",
                "**Explanation:**\n",
                "\n",
                "- SupplierName and City are selected from the Suppliers table.\n",
                "- ORDER BY City ASC sorts the results in ascending order by the City column (from A to Z).\n",
                "\n",
                "This query is a powerful choice when you’re only interested in the top entries and want results neatly sorted by a specific attribute, such as city.\n",
                "\n",
                "(SQL’s taking you on a quick supplier tour—we’re alphabetizing the route!🗺️)"
            ],
            "metadata": {
                "azdata_cell_guid": "fedcf2b6-6ab9-4984-9770-bb10cbeb869b"
            },
            "attachments": {}
        },
        {
            "cell_type": "markdown",
            "source": [
                "**CODE:**\n",
                "\n",
                "<span style=\"color: #0000ff;\">SELECT</span> SupplierName, City\n",
                "\n",
                "<span style=\"color: #0000ff;\">FROM</span> Suppliers\n",
                "\n",
                "<span style=\"color: #0000ff;\">ORDER BY</span> City <span style=\"color: #0000ff;\">ASC</span>;"
            ],
            "metadata": {
                "azdata_cell_guid": "4be929d7-4b2b-405b-848b-62cf48918731"
            },
            "attachments": {}
        },
        {
            "cell_type": "code",
            "source": [
                "SELECT TOP 5 SupplierName, City\r\n",
                "FROM Suppliers\r\n",
                "ORDER BY City ASC;"
            ],
            "metadata": {
                "azdata_cell_guid": "8db69ea3-2922-4156-a0f2-f080523e3247",
                "language": "sql"
            },
            "outputs": [
                {
                    "output_type": "display_data",
                    "data": {
                        "text/html": "(5 rows affected)"
                    },
                    "metadata": {}
                },
                {
                    "output_type": "display_data",
                    "data": {
                        "text/html": "Total execution time: 00:00:00.012"
                    },
                    "metadata": {}
                },
                {
                    "output_type": "execute_result",
                    "execution_count": 10,
                    "data": {
                        "application/vnd.dataresource+json": {
                            "data": [
                                {
                                    "City": "Ann Arbor",
                                    "SupplierName": "Grandma Kelly's Homestead"
                                },
                                {
                                    "City": "Annecy",
                                    "SupplierName": "Gai pâturage"
                                },
                                {
                                    "City": "Bend",
                                    "SupplierName": "Bigfoot Breweries"
                                },
                                {
                                    "City": "Berlin",
                                    "SupplierName": "Heli Süßwaren GmbH & Co. KG"
                                },
                                {
                                    "City": "Boston",
                                    "SupplierName": "New England Seafood Cannery"
                                }
                            ],
                            "schema": {
                                "fields": [
                                    {
                                        "name": "SupplierName"
                                    },
                                    {
                                        "name": "City"
                                    }
                                ]
                            }
                        },
                        "text/html": "<table><tr><th>SupplierName</th><th>City</th></tr><tr><td>Grandma Kelly&#39;s Homestead</td><td>Ann Arbor</td></tr><tr><td>Gai pâturage</td><td>Annecy</td></tr><tr><td>Bigfoot Breweries</td><td>Bend</td></tr><tr><td>Heli Süßwaren GmbH &amp; Co. KG</td><td>Berlin</td></tr><tr><td>New England Seafood Cannery</td><td>Boston</td></tr></table>"
                    },
                    "metadata": {}
                }
            ],
            "execution_count": 10
        },
        {
            "cell_type": "markdown",
            "source": [
                "## **<u>8\\. Date Filtering</u>**"
            ],
            "metadata": {
                "azdata_cell_guid": "f7256d63-09a3-4829-bfaf-d89604107f2a"
            },
            "attachments": {}
        },
        {
            "cell_type": "markdown",
            "source": [
                "**Use Case:**  \n",
                "Need a list of orders placed within a specific date range? This query is ideal for gathering data on orders placed over a set period, useful for tracking sales patterns or evaluating a promotion’s performance.\n",
                "\n",
                "**Explanation:**\n",
                "\n",
                "- WHERE OrderDate BETWEEN uses the BETWEEN operator to capture orders made between July 4, 1996, and July 9, 1996, inclusive:\n",
                "    - The BETWEEN operator is perfect for defining a start and end point for date-based filtering.\n",
                "    - This approach includes both boundary dates, so July 4 and July 9 orders are also counted.\n",
                "\n",
                "This query is particularly handy for quickly focusing on records over a holiday weekend, specific week, or any other targeted period without needing additional filtering.\n",
                "\n",
                "(SQL’s on a date hunt! Here’s your order snapshot from one week in July ‘96—happy tracking!📅)"
            ],
            "metadata": {
                "azdata_cell_guid": "73bdf98e-ce29-4d6d-aa2c-0c8019acb8a5"
            },
            "attachments": {}
        },
        {
            "cell_type": "markdown",
            "source": [
                "**CODE:**  \n",
                "\n",
                "<span style=\"color: #0000ff;\">SELECT</span> OrderID, OrderDate\n",
                "\n",
                "<span style=\"color: #0000ff;\">FROM</span> Orders\n",
                "\n",
                "<span style=\"color: #0000ff;\">WHERE</span> OrderDate <span style=\"color: #0000ff;\">BETWEEN</span> <span style=\"color: #a31515;\">'1996-07-04'</span> <span style=\"color: #0000ff;\">AND</span> <span style=\"color: #a31515;\">'1996-07-09'</span>;"
            ],
            "metadata": {
                "azdata_cell_guid": "33a634b3-16f4-4a37-b68a-be3a07ffcf35"
            },
            "attachments": {}
        },
        {
            "cell_type": "code",
            "source": [
                "SELECT OrderID, OrderDate\r\n",
                "FROM Orders\r\n",
                "WHERE OrderDate BETWEEN '1996-07-04' AND '1996-07-09';"
            ],
            "metadata": {
                "azdata_cell_guid": "01b116a4-6623-420c-8dc1-29af6d5db889",
                "language": "sql"
            },
            "outputs": [
                {
                    "output_type": "display_data",
                    "data": {
                        "text/html": "(5 rows affected)"
                    },
                    "metadata": {}
                },
                {
                    "output_type": "display_data",
                    "data": {
                        "text/html": "Total execution time: 00:00:00.009"
                    },
                    "metadata": {}
                },
                {
                    "output_type": "execute_result",
                    "execution_count": 17,
                    "data": {
                        "application/vnd.dataresource+json": {
                            "data": [
                                {
                                    "OrderDate": "1996-07-04",
                                    "OrderID": "10248"
                                },
                                {
                                    "OrderDate": "1996-07-05",
                                    "OrderID": "10249"
                                },
                                {
                                    "OrderDate": "1996-07-08",
                                    "OrderID": "10250"
                                },
                                {
                                    "OrderDate": "1996-07-08",
                                    "OrderID": "10251"
                                },
                                {
                                    "OrderDate": "1996-07-09",
                                    "OrderID": "10252"
                                }
                            ],
                            "schema": {
                                "fields": [
                                    {
                                        "name": "OrderID"
                                    },
                                    {
                                        "name": "OrderDate"
                                    }
                                ]
                            }
                        },
                        "text/html": "<table><tr><th>OrderID</th><th>OrderDate</th></tr><tr><td>10248</td><td>1996-07-04</td></tr><tr><td>10249</td><td>1996-07-05</td></tr><tr><td>10250</td><td>1996-07-08</td></tr><tr><td>10251</td><td>1996-07-08</td></tr><tr><td>10252</td><td>1996-07-09</td></tr></table>"
                    },
                    "metadata": {}
                }
            ],
            "execution_count": 17
        },
        {
            "cell_type": "markdown",
            "source": [
                "## **<u>9\\. Combining Rows with UNION</u>**"
            ],
            "metadata": {
                "azdata_cell_guid": "75b37549-95a6-4ce0-b948-78b2d671c3b6"
            },
            "attachments": {}
        },
        {
            "cell_type": "markdown",
            "source": [
                "**Use Case:**  \n",
                "Want a combined view of cities from both your customers and suppliers? This query lets you see an overview of top cities from both groups, especially useful for comparing where you have the highest overlap or reach across different connections.\n",
                "\n",
                "**Explanation:**\n",
                "\n",
                "- SELECT City FROM Customers fetches the first three cities listed in the Customers table.\n",
                "- UNION combines the results from two or more SELECT statements, removing any duplicate cities.\n",
                "- SELECT City FROM Suppliers does the same for the Suppliers table.\n",
                "\n",
                "The Union operator makes this query unique, as it combines two separate datasets into one and removes duplicates. If both customers and suppliers are in the same city, it only appears once in the final output. This query is perfect for getting a quick look at where both customers and suppliers are concentrated.\n",
                "\n",
                "(SQL’s got a city mash-up! Here’s the scoop on top cities, no duplicates allowed. 🌆)"
            ],
            "metadata": {
                "azdata_cell_guid": "f67f92a9-f415-42c0-8fc1-f79e9e41b512"
            },
            "attachments": {}
        },
        {
            "cell_type": "markdown",
            "source": [
                "**CODE:**\n",
                "\n",
                "<span style=\"color: #0000ff;\">SELECT</span> City <span style=\"color: #0000ff;\">FROM</span> Customers\n",
                "\n",
                "<span style=\"color: #0000ff;\">UNION</span>\n",
                "\n",
                "<span style=\"color: #0000ff;\">SELECT</span> City <span style=\"color: #0000ff;\">FROM</span> Suppliers;"
            ],
            "metadata": {
                "azdata_cell_guid": "6b34883e-b21a-4547-9ff5-2dae73eaf94d"
            },
            "attachments": {}
        },
        {
            "cell_type": "code",
            "source": [
                "SELECT TOP 3 City FROM Customers\r\n",
                "UNION\r\n",
                "SELECT TOP 3 City FROM Suppliers;"
            ],
            "metadata": {
                "azdata_cell_guid": "be7f12b2-3b51-4d1c-8c01-39dd5c88f447",
                "language": "sql"
            },
            "outputs": [
                {
                    "output_type": "display_data",
                    "data": {
                        "text/html": "(5 rows affected)"
                    },
                    "metadata": {}
                },
                {
                    "output_type": "display_data",
                    "data": {
                        "text/html": "Total execution time: 00:00:00.019"
                    },
                    "metadata": {}
                },
                {
                    "output_type": "execute_result",
                    "execution_count": 8,
                    "data": {
                        "application/vnd.dataresource+json": {
                            "data": [
                                {
                                    "City": "Ann Arbor"
                                },
                                {
                                    "City": "Berlin"
                                },
                                {
                                    "City": "Londona"
                                },
                                {
                                    "City": "México D.F."
                                },
                                {
                                    "City": "New Orleans"
                                }
                            ],
                            "schema": {
                                "fields": [
                                    {
                                        "name": "City"
                                    }
                                ]
                            }
                        },
                        "text/html": "<table><tr><th>City</th></tr><tr><td>Ann Arbor</td></tr><tr><td>Berlin</td></tr><tr><td>Londona</td></tr><tr><td>México D.F.</td></tr><tr><td>New Orleans</td></tr></table>"
                    },
                    "metadata": {}
                }
            ],
            "execution_count": 8
        },
        {
            "cell_type": "markdown",
            "source": [
                "## **<u>10\\. Joining Multiple Tables</u>**"
            ],
            "metadata": {
                "azdata_cell_guid": "40635a78-9917-4a18-9a4b-bc733dd160f4"
            },
            "attachments": {}
        },
        {
            "cell_type": "markdown",
            "source": [
                "**Use Case:**  \n",
                "This query is excellent for getting a quick overview of products alongside their categories and suppliers. Whether you're creating a catalog or just looking to understand which suppliers provide products in specific categories, this query offers a snapshot view with only the first five results for easy reference.\n",
                "\n",
                "**Explanation:**\n",
                "\n",
                "- JOIN links the Products table with the Categories table on the CategoryID column, enabling the display of each product’s category name.\n",
                "- JOIN further links the Products table with the Suppliers table on the SupplierID column, adding the supplier name to the output.\n",
                "\n",
                "With multiple JOINs, this query shows related data from three tables in one result set, giving you a clear picture of the product’s category and supplier. This type of query is highly useful for comprehensive data retrieval across interconnected tables.\n",
                "\n",
                "(SQL’s pulling together your product lineup with categories and suppliers—like a data triple threat! 🎬)"
            ],
            "metadata": {
                "azdata_cell_guid": "4e442f97-e449-4724-bb16-6d4859d6d682"
            },
            "attachments": {}
        },
        {
            "cell_type": "markdown",
            "source": [
                "**CODE:**\n",
                "\n",
                "<span style=\"color: #0000ff;\">SELECT</span> P.ProductName, C.CategoryName, S.SupplierName\n",
                "\n",
                "<span style=\"color: #0000ff;\">FROM</span> Products P\n",
                "\n",
                "<span style=\"color: #0000ff;\">JOIN</span> Categories C <span style=\"color: #0000ff;\">ON</span> P.CategoryID <span style=\"color: #000000;\">=</span> C.CategoryID\n",
                "\n",
                "<span style=\"color: #0000ff;\">JOIN</span> Suppliers S <span style=\"color: #0000ff;\">ON</span> P.SupplierID <span style=\"color: #000000;\">=</span> S.SupplierID;"
            ],
            "metadata": {
                "azdata_cell_guid": "328db6e7-f890-455e-b27a-9f17b5858c69"
            },
            "attachments": {}
        },
        {
            "cell_type": "code",
            "source": [
                "SELECT TOP 5 P.ProductName, C.CategoryName, S.SupplierName\r\n",
                "FROM Products P\r\n",
                "JOIN Categories C ON P.CategoryID = C.CategoryID\r\n",
                "JOIN Suppliers S ON P.SupplierID = S.SupplierID;"
            ],
            "metadata": {
                "azdata_cell_guid": "eee175fd-7979-430a-b022-f4fea6cf382a",
                "language": "sql"
            },
            "outputs": [
                {
                    "output_type": "display_data",
                    "data": {
                        "text/html": "(5 rows affected)"
                    },
                    "metadata": {}
                },
                {
                    "output_type": "display_data",
                    "data": {
                        "text/html": "Total execution time: 00:00:00.014"
                    },
                    "metadata": {}
                },
                {
                    "output_type": "execute_result",
                    "execution_count": 22,
                    "data": {
                        "application/vnd.dataresource+json": {
                            "data": [
                                {
                                    "CategoryName": "Beverages",
                                    "ProductName": "Chais",
                                    "SupplierName": "Exotic Liquid"
                                },
                                {
                                    "CategoryName": "Beverages",
                                    "ProductName": "Chang",
                                    "SupplierName": "Exotic Liquid"
                                },
                                {
                                    "CategoryName": "Condiments",
                                    "ProductName": "Aniseed Syrup",
                                    "SupplierName": "Exotic Liquid"
                                },
                                {
                                    "CategoryName": "Condiments",
                                    "ProductName": "Chef Anton's Cajun Seasoning",
                                    "SupplierName": "New Orleans Cajun Delights"
                                },
                                {
                                    "CategoryName": "Condiments",
                                    "ProductName": "Chef Anton's Gumbo Mix",
                                    "SupplierName": "New Orleans Cajun Delights"
                                }
                            ],
                            "schema": {
                                "fields": [
                                    {
                                        "name": "ProductName"
                                    },
                                    {
                                        "name": "CategoryName"
                                    },
                                    {
                                        "name": "SupplierName"
                                    }
                                ]
                            }
                        },
                        "text/html": "<table><tr><th>ProductName</th><th>CategoryName</th><th>SupplierName</th></tr><tr><td>Chais</td><td>Beverages</td><td>Exotic Liquid</td></tr><tr><td>Chang</td><td>Beverages</td><td>Exotic Liquid</td></tr><tr><td>Aniseed Syrup</td><td>Condiments</td><td>Exotic Liquid</td></tr><tr><td>Chef Anton&#39;s Cajun Seasoning</td><td>Condiments</td><td>New Orleans Cajun Delights</td></tr><tr><td>Chef Anton&#39;s Gumbo Mix</td><td>Condiments</td><td>New Orleans Cajun Delights</td></tr></table>"
                    },
                    "metadata": {}
                }
            ],
            "execution_count": 22
        },
        {
            "cell_type": "markdown",
            "source": [
                "## **<u>11\\. Calculationg Average with AVG Function</u>**"
            ],
            "metadata": {
                "azdata_cell_guid": "107e9d62-c393-4240-a3f1-dcfbf17c0c18"
            },
            "attachments": {}
        },
        {
            "cell_type": "markdown",
            "source": [
                "**Use Case:**  \n",
                "Ever wondered about the average price of products in your store? This query calculates it, giving you a sense of your pricing range.\n",
                "\n",
                "**Explanation:**\n",
                "\n",
                "- AVG(Price) alculates the average value of Price across all products.\n",
                "- AS AvgPrice akes the output column clear. Instead of an unlabeled number, you get “AvgPrice.”\n",
                "\n",
                "(So, let SQL be your financial advisor—minus the hefty fees! 💰)"
            ],
            "metadata": {
                "azdata_cell_guid": "a7b7230f-b491-4cf6-9e3c-be38f535e54d"
            },
            "attachments": {}
        },
        {
            "cell_type": "markdown",
            "source": [
                "**CODE:**  \n",
                "\n",
                "<span style=\"color: #0000ff;\">SELECT</span> <span style=\"color: #795e26;\">AVG</span>(Price) <span style=\"color: #0000ff;\">AS</span> AvgPrice\n",
                "\n",
                "<span style=\"color: #0000ff;\">FROM</span> Products;"
            ],
            "metadata": {
                "azdata_cell_guid": "0cf58eb5-2ba2-4e94-b48a-c721e08e2e19"
            },
            "attachments": {}
        },
        {
            "cell_type": "code",
            "source": [
                "SELECT AVG(Price) AS AvgPrice\r\n",
                "FROM Products;"
            ],
            "metadata": {
                "azdata_cell_guid": "0cf3693e-3d8d-4b44-922e-9b29f5a9905b",
                "language": "sql"
            },
            "outputs": [
                {
                    "output_type": "display_data",
                    "data": {
                        "text/html": "(1 row affected)"
                    },
                    "metadata": {}
                },
                {
                    "output_type": "display_data",
                    "data": {
                        "text/html": "Total execution time: 00:00:00.007"
                    },
                    "metadata": {}
                },
                {
                    "output_type": "execute_result",
                    "execution_count": 24,
                    "data": {
                        "application/vnd.dataresource+json": {
                            "data": [
                                {
                                    "AvgPrice": "28.8663"
                                }
                            ],
                            "schema": {
                                "fields": [
                                    {
                                        "name": "AvgPrice"
                                    }
                                ]
                            }
                        },
                        "text/html": "<table><tr><th>AvgPrice</th></tr><tr><td>28.8663</td></tr></table>"
                    },
                    "metadata": {}
                }
            ],
            "execution_count": 24
        },
        {
            "cell_type": "markdown",
            "source": [
                "## **<u>12\\. Grouping Data with GROUP BY</u>**"
            ],
            "metadata": {
                "azdata_cell_guid": "6700ab2d-5a01-4289-9654-242b53a1da41"
            },
            "attachments": {}
        },
        {
            "cell_type": "markdown",
            "source": [
                "**Use Case:** This query helps you see which categories are the most populated with products—great for spotting trends in your inventory!\n",
                "\n",
                "**Explanation:** It counts the number of products in each category and shows the top five categories, giving you a quick glance at where your inventory is concentrated. Think of it as a roll call for your product categories! 🎉\n",
                "\n",
                "(Counting products like a pro—who knew SQL could be this much fun? 🧮)"
            ],
            "metadata": {
                "azdata_cell_guid": "26c7777d-c9b1-460e-92fd-4c27684797b6"
            },
            "attachments": {}
        },
        {
            "cell_type": "markdown",
            "source": [
                "**CODE:**\n",
                "\n",
                "<span style=\"color: #0000ff;\">SELECT</span> CategoryID, <span style=\"color: #795e26;\">COUNT</span>(ProductID) <span style=\"color: #0000ff;\">AS</span> ProductCount\n",
                "\n",
                "<span style=\"color: #0000ff;\">FROM</span> Products\n",
                "\n",
                "<span style=\"color: #0000ff;\">GROUP BY</span> CategoryID;"
            ],
            "metadata": {
                "azdata_cell_guid": "7b282bf9-6245-43e7-a36e-3f18fd18aa2d"
            },
            "attachments": {}
        },
        {
            "cell_type": "code",
            "source": [
                "SELECT TOP 5 CategoryID, COUNT(ProductID) AS ProductCount\r\n",
                "FROM Products\r\n",
                "GROUP BY CategoryID;"
            ],
            "metadata": {
                "azdata_cell_guid": "3656fb51-e388-432a-a171-65f2edd4fd12",
                "language": "sql"
            },
            "outputs": [
                {
                    "output_type": "display_data",
                    "data": {
                        "text/html": "(5 rows affected)"
                    },
                    "metadata": {}
                },
                {
                    "output_type": "display_data",
                    "data": {
                        "text/html": "Total execution time: 00:00:00.007"
                    },
                    "metadata": {}
                },
                {
                    "output_type": "execute_result",
                    "execution_count": 10,
                    "data": {
                        "application/vnd.dataresource+json": {
                            "data": [
                                {
                                    "CategoryID": "1",
                                    "ProductCount": "12"
                                },
                                {
                                    "CategoryID": "2",
                                    "ProductCount": "12"
                                },
                                {
                                    "CategoryID": "3",
                                    "ProductCount": "13"
                                },
                                {
                                    "CategoryID": "4",
                                    "ProductCount": "10"
                                },
                                {
                                    "CategoryID": "5",
                                    "ProductCount": "7"
                                }
                            ],
                            "schema": {
                                "fields": [
                                    {
                                        "name": "CategoryID"
                                    },
                                    {
                                        "name": "ProductCount"
                                    }
                                ]
                            }
                        },
                        "text/html": "<table><tr><th>CategoryID</th><th>ProductCount</th></tr><tr><td>1</td><td>12</td></tr><tr><td>2</td><td>12</td></tr><tr><td>3</td><td>13</td></tr><tr><td>4</td><td>10</td></tr><tr><td>5</td><td>7</td></tr></table>"
                    },
                    "metadata": {}
                }
            ],
            "execution_count": 10
        },
        {
            "cell_type": "markdown",
            "source": [
                "## **<u>13\\. Filtering Groups with HAVING</u>**"
            ],
            "metadata": {
                "azdata_cell_guid": "50b27547-58c7-4e0b-92bc-f868b01aea74"
            },
            "attachments": {}
        },
        {
            "cell_type": "markdown",
            "source": [
                "**Use Case:** This query lets you find categories with more than 10 products, perfect for identifying your most stocked categories for better inventory management!\n",
                "\n",
                "**Explanation:** It counts products per category, showing only those with more than 10 items. It’s like a VIP list for categories—only the popular ones make the cut! 🎟️\n",
                "\n",
                "(Filtering out the crowd and spotlighting the big players—SQL knows how to throw a party! 🥳)"
            ],
            "metadata": {
                "azdata_cell_guid": "5a046024-7496-417a-8518-e8bf91a2d945"
            },
            "attachments": {}
        },
        {
            "cell_type": "markdown",
            "source": [
                "**CODE:**  \n",
                "\n",
                "<span style=\"color: #0000ff;\">SELECT</span> CategoryID, <span style=\"color: #795e26;\">COUNT</span>(ProductID) <span style=\"color: #0000ff;\">AS</span> ProductCount\n",
                "\n",
                "<span style=\"color: #0000ff;\">FROM</span> Products\n",
                "\n",
                "<span style=\"color: #0000ff;\">GROUP BY</span> CategoryID\n",
                "\n",
                "<span style=\"color: #0000ff;\">HAVING</span> <span style=\"color: #795e26;\">COUNT</span>(ProductID) <span style=\"color: #000000;\">&gt;</span> <span style=\"color: #09885a;\">10</span>;"
            ],
            "metadata": {
                "azdata_cell_guid": "725929b6-dc19-4c8a-a0d9-c97239729af3"
            },
            "attachments": {}
        },
        {
            "cell_type": "code",
            "source": [
                "SELECT CategoryID, COUNT(ProductID) AS ProductCount\r\n",
                "FROM Products\r\n",
                "GROUP BY CategoryID\r\n",
                "HAVING COUNT(ProductID) > 10;"
            ],
            "metadata": {
                "azdata_cell_guid": "ab7ce669-011b-49eb-bccb-1d67c0e5c178",
                "language": "sql"
            },
            "outputs": [
                {
                    "output_type": "display_data",
                    "data": {
                        "text/html": "(4 rows affected)"
                    },
                    "metadata": {}
                },
                {
                    "output_type": "display_data",
                    "data": {
                        "text/html": "Total execution time: 00:00:00.016"
                    },
                    "metadata": {}
                },
                {
                    "output_type": "execute_result",
                    "execution_count": 26,
                    "data": {
                        "application/vnd.dataresource+json": {
                            "data": [
                                {
                                    "CategoryID": "1",
                                    "ProductCount": "12"
                                },
                                {
                                    "CategoryID": "2",
                                    "ProductCount": "12"
                                },
                                {
                                    "CategoryID": "3",
                                    "ProductCount": "13"
                                },
                                {
                                    "CategoryID": "8",
                                    "ProductCount": "12"
                                }
                            ],
                            "schema": {
                                "fields": [
                                    {
                                        "name": "CategoryID"
                                    },
                                    {
                                        "name": "ProductCount"
                                    }
                                ]
                            }
                        },
                        "text/html": "<table><tr><th>CategoryID</th><th>ProductCount</th></tr><tr><td>1</td><td>12</td></tr><tr><td>2</td><td>12</td></tr><tr><td>3</td><td>13</td></tr><tr><td>8</td><td>12</td></tr></table>"
                    },
                    "metadata": {}
                }
            ],
            "execution_count": 26
        },
        {
            "cell_type": "markdown",
            "source": [
                "## **<u>14\\. Handling Null Values with \"IS NULL\"</u>**"
            ],
            "metadata": {
                "azdata_cell_guid": "84fe0504-6dae-4703-9a39-e7e1264bbe11"
            },
            "attachments": {}
        },
        {
            "cell_type": "markdown",
            "source": [
                "**Use Case:** Ready to become a data detective? This query helps you unearth customers without postal codes—let’s make sure no one misses out on your next fabulous offer! Who knows, you might just find some hidden gems in your customer list!\n",
                "\n",
                "**Explanation:**\n",
                "\n",
                "- SELECT CustomerName, PostalCode: Retrieves the names and postal codes of customers.\n",
                "- WHERE PostalCode IS NULL: Filters to show only those customers who are missing a postal code.\n",
                "\n",
                "(It's like a scavenger hunt for your data—let’s track down those postal codes and get everyone on the map! 🗺️✨)"
            ],
            "metadata": {
                "azdata_cell_guid": "76b3e6fe-b02a-435b-9f34-c0c91d37bd5a"
            },
            "attachments": {}
        },
        {
            "cell_type": "markdown",
            "source": [
                "**CODE:**  \n",
                "\n",
                "<span style=\"color: #0000ff;\">SELECT</span> CustomerName, PostalCode\n",
                "\n",
                "<span style=\"color: #0000ff;\">FROM</span> Customers\n",
                "\n",
                "<span style=\"color: #0000ff;\">WHERE</span> PostalCode <span style=\"color: #0000ff;\">IS</span> <span style=\"color: #0000ff;\">NULL</span>;"
            ],
            "metadata": {
                "azdata_cell_guid": "6d373af2-65cf-47a3-8a97-e596e445cf7d"
            },
            "attachments": {}
        },
        {
            "cell_type": "code",
            "source": [
                "SELECT CustomerName, PostalCode\r\n",
                "FROM Customers\r\n",
                "WHERE PostalCode IS NULL;"
            ],
            "metadata": {
                "azdata_cell_guid": "c4743dc9-ff63-4628-90a2-441c02fd776c",
                "language": "sql"
            },
            "outputs": [
                {
                    "output_type": "display_data",
                    "data": {
                        "text/html": "(1 row affected)"
                    },
                    "metadata": {}
                },
                {
                    "output_type": "display_data",
                    "data": {
                        "text/html": "Total execution time: 00:00:00.020"
                    },
                    "metadata": {}
                },
                {
                    "output_type": "execute_result",
                    "execution_count": 27,
                    "data": {
                        "application/vnd.dataresource+json": {
                            "data": [
                                {
                                    "CustomerName": "Hungry Owl All-Night Grocers",
                                    "PostalCode": "NULL"
                                }
                            ],
                            "schema": {
                                "fields": [
                                    {
                                        "name": "CustomerName"
                                    },
                                    {
                                        "name": "PostalCode"
                                    }
                                ]
                            }
                        },
                        "text/html": "<table><tr><th>CustomerName</th><th>PostalCode</th></tr><tr><td>Hungry Owl All-Night Grocers</td><td>NULL</td></tr></table>"
                    },
                    "metadata": {}
                }
            ],
            "execution_count": 27
        },
        {
            "cell_type": "markdown",
            "source": [
                "## **<u>15\\. Conditional Logic with CASE</u>**"
            ],
            "metadata": {
                "azdata_cell_guid": "a52d6f33-e9fc-4a9d-a1c9-a8158d3b992c"
            },
            "attachments": {}
        },
        {
            "cell_type": "markdown",
            "source": [
                "**Use Case:** Looking to categorize your orders like a pro? This query helps you identify whether your top orders are \"Large\" or \"Small,\" making it easy to manage inventory and planning—perfect for any budding business owner!\n",
                "\n",
                "**Explanation:**\n",
                "\n",
                "- CASE Statement here classifies orders as \"Large\" if the quantity exceeds 10, and \"Small\" otherwise.\n",
                "\n",
                "(Think of it as sizing up your orders—because every order deserves the right label! 📦👗)"
            ],
            "metadata": {
                "azdata_cell_guid": "2829cf71-c54a-4aef-aa06-1ebd25d14591"
            },
            "attachments": {}
        },
        {
            "cell_type": "markdown",
            "source": [
                "**CODE:**\n",
                "\n",
                "<span style=\"color: #0000ff;\">SELECT</span> OrderID,\n",
                "\n",
                "       <span style=\"color: #0000ff;\">CASE</span>\n",
                "\n",
                "           <span style=\"color: #0000ff;\">WHEN</span> Quantity <span style=\"color: #000000;\">&gt;</span> <span style=\"color: #09885a;\">10</span> <span style=\"color: #0000ff;\">THEN</span> <span style=\"color: #a31515;\">'Large'</span>\n",
                "\n",
                "           <span style=\"color: #0000ff;\">ELSE</span> <span style=\"color: #a31515;\">'Small'</span>\n",
                "\n",
                "       <span style=\"color: #0000ff;\">END</span> <span style=\"color: #0000ff;\">AS</span> OrderSize\n",
                "\n",
                "<span style=\"color: #0000ff;\">FROM</span> OrderDetails;"
            ],
            "metadata": {
                "azdata_cell_guid": "3554a914-201f-4240-9857-01c057ad0a94"
            },
            "attachments": {}
        },
        {
            "cell_type": "code",
            "source": [
                "SELECT TOP 5 OrderID,\r\n",
                "       CASE \r\n",
                "           WHEN Quantity > 10 THEN 'Large'\r\n",
                "           ELSE 'Small'\r\n",
                "       END AS OrderSize\r\n",
                "FROM OrderDetails;"
            ],
            "metadata": {
                "azdata_cell_guid": "243db2b4-8336-4e2d-b875-d0da27a9a9c5",
                "language": "sql"
            },
            "outputs": [
                {
                    "output_type": "display_data",
                    "data": {
                        "text/html": "(5 rows affected)"
                    },
                    "metadata": {}
                },
                {
                    "output_type": "display_data",
                    "data": {
                        "text/html": "Total execution time: 00:00:00.024"
                    },
                    "metadata": {}
                },
                {
                    "output_type": "execute_result",
                    "execution_count": 11,
                    "data": {
                        "application/vnd.dataresource+json": {
                            "data": [
                                {
                                    "OrderID": "10248",
                                    "OrderSize": "Large"
                                },
                                {
                                    "OrderID": "10248",
                                    "OrderSize": "Small"
                                },
                                {
                                    "OrderID": "10248",
                                    "OrderSize": "Small"
                                },
                                {
                                    "OrderID": "10249",
                                    "OrderSize": "Small"
                                },
                                {
                                    "OrderID": "10249",
                                    "OrderSize": "Large"
                                }
                            ],
                            "schema": {
                                "fields": [
                                    {
                                        "name": "OrderID"
                                    },
                                    {
                                        "name": "OrderSize"
                                    }
                                ]
                            }
                        },
                        "text/html": "<table><tr><th>OrderID</th><th>OrderSize</th></tr><tr><td>10248</td><td>Large</td></tr><tr><td>10248</td><td>Small</td></tr><tr><td>10248</td><td>Small</td></tr><tr><td>10249</td><td>Small</td></tr><tr><td>10249</td><td>Large</td></tr></table>"
                    },
                    "metadata": {}
                }
            ],
            "execution_count": 11
        },
        {
            "cell_type": "markdown",
            "source": [
                "## **<u>16\\. Subqueries for Complex Queries</u>**"
            ],
            "metadata": {
                "azdata_cell_guid": "8eaef269-011c-44c1-84f3-04326045f257"
            },
            "attachments": {}
        },
        {
            "cell_type": "markdown",
            "source": [
                "**Use Case:** Want to find your most loyal customers? This query helps you identify those superstars who’ve placed more than five orders—perfect for rewarding your VIPs with special offers!\n",
                "\n",
                "**Explanation:**\n",
                "\n",
                "- WHERE CustomerID IN(...): Filters to include only those customers who meet the criteria from the subquery.\n",
                "- The Subquery Counts orders per customer and retains only those with more than five orders.\n",
                "\n",
                "(Your loyal customers deserve a shout-out—let’s roll out the red carpet for these order champions! 🎉✨)"
            ],
            "metadata": {
                "azdata_cell_guid": "3b29742e-9833-4521-97a2-2565b84c4eb5"
            },
            "attachments": {}
        },
        {
            "cell_type": "markdown",
            "source": [
                "**CODE:**  \n",
                "\n",
                "<span style=\"color: #0000ff;\">SELECT</span> CustomerName\n",
                "\n",
                "<span style=\"color: #0000ff;\">FROM</span> Customers\n",
                "\n",
                "<span style=\"color: #0000ff;\">WHERE</span> CustomerID <span style=\"color: #0000ff;\">IN</span> (\n",
                "\n",
                "    <span style=\"color: #0000ff;\">SELECT</span> CustomerID\n",
                "\n",
                "    <span style=\"color: #0000ff;\">FROM</span> Orders\n",
                "\n",
                "    <span style=\"color: #0000ff;\">GROUP BY</span> CustomerID\n",
                "\n",
                "    <span style=\"color: #0000ff;\">HAVING</span> <span style=\"color: #795e26;\">COUNT</span>(OrderID) <span style=\"color: #000000;\">&gt;</span> <span style=\"color: #09885a;\">5</span>\n",
                "\n",
                ");"
            ],
            "metadata": {
                "azdata_cell_guid": "bfd9c731-5ace-49bb-8e2f-41f737de9770"
            },
            "attachments": {}
        },
        {
            "cell_type": "code",
            "source": [
                "SELECT CustomerName\r\n",
                "FROM Customers\r\n",
                "WHERE CustomerID IN (\r\n",
                "    SELECT CustomerID \r\n",
                "    FROM Orders \r\n",
                "    GROUP BY CustomerID\r\n",
                "    HAVING COUNT(OrderID) > 5\r\n",
                ");"
            ],
            "metadata": {
                "azdata_cell_guid": "80877454-6f9b-485c-aa95-3930387119d8",
                "language": "sql"
            },
            "outputs": [
                {
                    "output_type": "display_data",
                    "data": {
                        "text/html": "(6 rows affected)"
                    },
                    "metadata": {}
                },
                {
                    "output_type": "display_data",
                    "data": {
                        "text/html": "Total execution time: 00:00:00.026"
                    },
                    "metadata": {}
                },
                {
                    "output_type": "execute_result",
                    "execution_count": 33,
                    "data": {
                        "application/vnd.dataresource+json": {
                            "data": [
                                {
                                    "CustomerName": "Ernst Handel"
                                },
                                {
                                    "CustomerName": "Hungry Owl All-Night Grocers"
                                },
                                {
                                    "CustomerName": "QUICK-Stop"
                                },
                                {
                                    "CustomerName": "Rattlesnake Canyon Grocery"
                                },
                                {
                                    "CustomerName": "Split Rail Beer & Ale"
                                },
                                {
                                    "CustomerName": "Wartian Herkku"
                                }
                            ],
                            "schema": {
                                "fields": [
                                    {
                                        "name": "CustomerName"
                                    }
                                ]
                            }
                        },
                        "text/html": "<table><tr><th>CustomerName</th></tr><tr><td>Ernst Handel</td></tr><tr><td>Hungry Owl All-Night Grocers</td></tr><tr><td>QUICK-Stop</td></tr><tr><td>Rattlesnake Canyon Grocery</td></tr><tr><td>Split Rail Beer &amp; Ale</td></tr><tr><td>Wartian Herkku</td></tr></table>"
                    },
                    "metadata": {}
                }
            ],
            "execution_count": 33
        },
        {
            "cell_type": "markdown",
            "source": [
                "## **<u>17\\. Using EXISTS for Efficient Subqueries</u>**"
            ],
            "metadata": {
                "azdata_cell_guid": "3d13da3e-d7ea-43a3-939f-137f4d32dfe0"
            },
            "attachments": {}
        },
        {
            "cell_type": "markdown",
            "source": [
                "**Use Case:** Curious about which suppliers are actively providing products? This query helps you spotlight the top five suppliers who are keeping your shelves stocked—great for ensuring strong partnerships!\n",
                "\n",
                "**Explanation:**\n",
                "\n",
                "- WHERE EXISTS(...): nsures that only suppliers with products in the Products table are included.\n",
                "- The Subquery Checks for the existence of products linked to each supplier.\n",
                "\n",
                "(Shining a light on your supplier rockstars—because every great product has a great supplier behind it! 🌟)"
            ],
            "metadata": {
                "azdata_cell_guid": "52700029-bae3-4cfd-9982-8d943ec4ebe9"
            },
            "attachments": {}
        },
        {
            "cell_type": "markdown",
            "source": [
                "**CODE:**\n",
                "\n",
                "<span style=\"color: #0000ff;\">SELECT</span> SupplierName\n",
                "\n",
                "<span style=\"color: #0000ff;\">FROM</span> Suppliers\n",
                "\n",
                "<span style=\"color: #0000ff;\">WHERE</span> <span style=\"color: #0000ff;\">EXISTS</span> (<span style=\"color: #0000ff;\">SELECT</span> <span style=\"color: #09885a;\">1</span> <span style=\"color: #0000ff;\">FROM</span> Products <span style=\"color: #0000ff;\">WHERE</span> Products.SupplierID <span style=\"color: #000000;\">=</span> Suppliers.SupplierID);"
            ],
            "metadata": {
                "azdata_cell_guid": "8f1a0dea-ca44-4d60-af24-ed9eee6e373b"
            },
            "attachments": {}
        },
        {
            "cell_type": "code",
            "source": [
                "SELECT TOP 5 SupplierName\r\n",
                "FROM Suppliers\r\n",
                "WHERE EXISTS (SELECT 1 FROM Products WHERE Products.SupplierID = Suppliers.SupplierID);"
            ],
            "metadata": {
                "azdata_cell_guid": "8d5eec4f-7a94-4785-9038-9e39ddb646a5",
                "language": "sql"
            },
            "outputs": [
                {
                    "output_type": "display_data",
                    "data": {
                        "text/html": "(5 rows affected)"
                    },
                    "metadata": {}
                },
                {
                    "output_type": "display_data",
                    "data": {
                        "text/html": "Total execution time: 00:00:00.031"
                    },
                    "metadata": {}
                },
                {
                    "output_type": "execute_result",
                    "execution_count": 12,
                    "data": {
                        "application/vnd.dataresource+json": {
                            "data": [
                                {
                                    "SupplierName": "Exotic Liquid"
                                },
                                {
                                    "SupplierName": "New Orleans Cajun Delights"
                                },
                                {
                                    "SupplierName": "Grandma Kelly's Homestead"
                                },
                                {
                                    "SupplierName": "Tokyo Traders"
                                },
                                {
                                    "SupplierName": "Cooperativa de Quesos 'Las Cabras'"
                                }
                            ],
                            "schema": {
                                "fields": [
                                    {
                                        "name": "SupplierName"
                                    }
                                ]
                            }
                        },
                        "text/html": "<table><tr><th>SupplierName</th></tr><tr><td>Exotic Liquid</td></tr><tr><td>New Orleans Cajun Delights</td></tr><tr><td>Grandma Kelly&#39;s Homestead</td></tr><tr><td>Tokyo Traders</td></tr><tr><td>Cooperativa de Quesos &#39;Las Cabras&#39;</td></tr></table>"
                    },
                    "metadata": {}
                }
            ],
            "execution_count": 12
        },
        {
            "cell_type": "markdown",
            "source": [
                "## **<u>18\\. Self Joins</u>**"
            ],
            "metadata": {
                "azdata_cell_guid": "d7e234f1-b00b-49a1-8414-7bf67b566e92"
            },
            "attachments": {}
        },
        {
            "cell_type": "markdown",
            "source": [
                "**Use Case:** Want to see which of your customers are neighbors? This query pairs up customers from the same city, giving you insights into your local network—great for targeting community marketing efforts!\n",
                "\n",
                "**Explanation:**\n",
                "\n",
                "- SELECT C1.CustomerName, C2.CustomerName retrieves names of the pairs of customers.\n",
                "- <span style=\"color: rgb(33, 33, 33); font-family: Consolas, &quot;Courier New&quot;, monospace; font-size: 12px; white-space: pre;\">JOIN Customers C2 ON </span> <span style=\"color: rgb(33, 33, 33); font-family: Consolas, &quot;Courier New&quot;, monospace; font-size: 12px; white-space: pre;\">C1.City </span> <span style=\"font-family: Consolas, &quot;Courier New&quot;, monospace; font-size: 12px; white-space: pre; color: rgb(0, 0, 0);\">=</span> <span style=\"color: rgb(33, 33, 33); font-family: Consolas, &quot;Courier New&quot;, monospace; font-size: 12px; white-space: pre;\"> C2.City AND </span> <span style=\"color: rgb(33, 33, 33); font-family: Consolas, &quot;Courier New&quot;, monospace; font-size: 12px; white-space: pre;\">C1.CustomerID </span> <span style=\"font-family: Consolas, &quot;Courier New&quot;, monospace; font-size: 12px; white-space: pre; color: rgb(0, 0, 0);\">&lt;&gt;</span> <span style=\"color: rgb(33, 33, 33); font-family: Consolas, &quot;Courier New&quot;, monospace; font-size: 12px; white-space: pre;\"> C2.CustomerID: </span> atches customers from the same city while ensuring they are not the same person.\n",
                "\n",
                "(Talk about a friendly neighborhood! Let’s see who’s living next door in your customer base! 🏙️🤝)"
            ],
            "metadata": {
                "azdata_cell_guid": "1f98106e-7b9a-4557-a53b-ab5dc67c9b40"
            },
            "attachments": {}
        },
        {
            "cell_type": "markdown",
            "source": [
                "**CODE:**\n",
                "\n",
                "<span style=\"color: #0000ff;\">SELECT</span> C1.CustomerName, C2.CustomerName\n",
                "\n",
                "<span style=\"color: #0000ff;\">FROM</span> Customers C1\n",
                "\n",
                "<span style=\"color: #0000ff;\">JOIN</span> Customers C2 <span style=\"color: #0000ff;\">ON</span> C1.City <span style=\"color: #000000;\">=</span> C2.City <span style=\"color: #0000ff;\">AND</span> C1.CustomerID <span style=\"color: #000000;\">&lt;&gt;</span> C2.CustomerID;"
            ],
            "metadata": {
                "azdata_cell_guid": "4c5601f1-a1cc-472c-b2de-c91a5d961142"
            },
            "attachments": {}
        },
        {
            "cell_type": "code",
            "source": [
                "SELECT TOP 5 C1.CustomerName, C2.CustomerName\r\n",
                "FROM Customers C1\r\n",
                "JOIN Customers C2 ON C1.City = C2.City AND C1.CustomerID <> C2.CustomerID;"
            ],
            "metadata": {
                "azdata_cell_guid": "9869042e-8c4c-458d-bdd9-28c3f6080ee3",
                "language": "sql"
            },
            "outputs": [
                {
                    "output_type": "display_data",
                    "data": {
                        "text/html": "(5 rows affected)"
                    },
                    "metadata": {}
                },
                {
                    "output_type": "display_data",
                    "data": {
                        "text/html": "Total execution time: 00:00:00.067"
                    },
                    "metadata": {}
                },
                {
                    "output_type": "execute_result",
                    "metadata": {},
                    "execution_count": 1,
                    "data": {
                        "application/vnd.dataresource+json": {
                            "schema": {
                                "fields": [
                                    {
                                        "name": "CustomerName"
                                    },
                                    {
                                        "name": "CustomerName"
                                    }
                                ]
                            },
                            "data": [
                                {
                                    "CustomerName": "Ana Trujillo Emparedados y helados"
                                },
                                {
                                    "CustomerName": "Ana Trujillo Emparedados y helados"
                                },
                                {
                                    "CustomerName": "Ana Trujillo Emparedados y helados"
                                },
                                {
                                    "CustomerName": "Ana Trujillo Emparedados y helados"
                                },
                                {
                                    "CustomerName": "Antonio Moreno Taquería"
                                }
                            ]
                        },
                        "text/html": [
                            "<table>",
                            "<tr><th>CustomerName</th><th>CustomerName</th></tr>",
                            "<tr><td>Antonio Moreno Taquería</td><td>Ana Trujillo Emparedados y helados</td></tr>",
                            "<tr><td>Centro comercial Moctezuma</td><td>Ana Trujillo Emparedados y helados</td></tr>",
                            "<tr><td>Pericles Comidas clásicas</td><td>Ana Trujillo Emparedados y helados</td></tr>",
                            "<tr><td>Tortuga Restaurante</td><td>Ana Trujillo Emparedados y helados</td></tr>",
                            "<tr><td>Ana Trujillo Emparedados y helados</td><td>Antonio Moreno Taquería</td></tr>",
                            "</table>"
                        ]
                    }
                }
            ],
            "execution_count": 1
        },
        {
            "cell_type": "markdown",
            "source": [
                "## **<u>19\\. Using OUTER JOIN to include Non-matching Rows</u>**"
            ],
            "metadata": {
                "azdata_cell_guid": "af85c033-4742-46e4-b015-e291897893ce"
            },
            "attachments": {}
        },
        {
            "cell_type": "markdown",
            "source": [
                "**Use Case:** Curious about which products are making waves in your orders? This query shows the top five products along with their associated order IDs, helping you identify popular items and streamline your sales strategies!\n",
                "\n",
                "**Explanation:**\n",
                "\n",
                "- LEFT JOIN combines product data with order details, ensuring all products are listed even if they haven’t been ordered yet.\n",
                "\n",
                "(Spotting trends while keeping everyone in the loop—because even the wallflowers in your product lineup deserve some love! 🌸📦)"
            ],
            "metadata": {
                "azdata_cell_guid": "730349b8-d983-4dc4-8631-2a2cb6622499"
            },
            "attachments": {}
        },
        {
            "cell_type": "markdown",
            "source": [
                "**CODE:**\n",
                "\n",
                "<span style=\"color: #0000ff;\">SELECT</span> P.ProductName, OD.OrderID\n",
                "\n",
                "<span style=\"color: #0000ff;\">FROM</span> Products P\n",
                "\n",
                "<span style=\"color: #0000ff;\">LEFT JOIN</span> OrderDetails OD <span style=\"color: #0000ff;\">ON</span> P.ProductID <span style=\"color: #000000;\">=</span> OD.ProductID;"
            ],
            "metadata": {
                "azdata_cell_guid": "cc44815e-c015-457e-b8a3-97178766a856"
            },
            "attachments": {}
        },
        {
            "cell_type": "code",
            "source": [
                "SELECT TOP 5 P.ProductName, OD.OrderID\r\n",
                "FROM Products P\r\n",
                "LEFT JOIN OrderDetails OD ON P.ProductID = OD.ProductID;"
            ],
            "metadata": {
                "azdata_cell_guid": "89024f68-45f6-45f9-8620-9f4282464525",
                "language": "sql"
            },
            "outputs": [
                {
                    "output_type": "display_data",
                    "data": {
                        "text/html": "(5 rows affected)"
                    },
                    "metadata": {}
                },
                {
                    "output_type": "display_data",
                    "data": {
                        "text/html": "Total execution time: 00:00:00.019"
                    },
                    "metadata": {}
                },
                {
                    "output_type": "execute_result",
                    "execution_count": 15,
                    "data": {
                        "application/vnd.dataresource+json": {
                            "data": [
                                {
                                    "OrderID": "10285",
                                    "ProductName": "Chais"
                                },
                                {
                                    "OrderID": "10294",
                                    "ProductName": "Chais"
                                },
                                {
                                    "OrderID": "10317",
                                    "ProductName": "Chais"
                                },
                                {
                                    "OrderID": "10348",
                                    "ProductName": "Chais"
                                },
                                {
                                    "OrderID": "10354",
                                    "ProductName": "Chais"
                                }
                            ],
                            "schema": {
                                "fields": [
                                    {
                                        "name": "ProductName"
                                    },
                                    {
                                        "name": "OrderID"
                                    }
                                ]
                            }
                        },
                        "text/html": "<table><tr><th>ProductName</th><th>OrderID</th></tr><tr><td>Chais</td><td>10285</td></tr><tr><td>Chais</td><td>10294</td></tr><tr><td>Chais</td><td>10317</td></tr><tr><td>Chais</td><td>10348</td></tr><tr><td>Chais</td><td>10354</td></tr></table>"
                    },
                    "metadata": {}
                }
            ],
            "execution_count": 15
        },
        {
            "cell_type": "markdown",
            "source": [
                "## **<u>20\\. Finding Rows with NOT IN</u>**"
            ],
            "metadata": {
                "azdata_cell_guid": "43c229db-b79f-43e6-aca8-243498421135"
            },
            "attachments": {}
        },
        {
            "cell_type": "markdown",
            "source": [
                "**Use Case:** Want to identify customers who haven’t placed any orders yet? This query helps you spot those potential buyers who might need a little nudge—perfect for targeted marketing campaigns or outreach!\n",
                "\n",
                "**Explanation:**\n",
                "\n",
                "- WHERE and NOT IN filters out customers who have placed any orders.\n",
                "\n",
                "(Think of it as a friendly reminder to engage with customers who might be lurking—let’s turn those curious minds into loyal buyers! 🛍️✨)"
            ],
            "metadata": {
                "azdata_cell_guid": "ab2a00c0-10ed-4c88-9618-80d9a0e45e6e"
            },
            "attachments": {}
        },
        {
            "cell_type": "markdown",
            "source": [
                "**CODE:**\n",
                "\n",
                "<span style=\"color: #0000ff;\">SELECT</span> CustomerName\n",
                "\n",
                "<span style=\"color: #0000ff;\">FROM</span> Customers\n",
                "\n",
                "<span style=\"color: #0000ff;\">WHERE</span> CustomerID <span style=\"color: #0000ff;\">NOT</span> <span style=\"color: #0000ff;\">IN</span> (<span style=\"color: #0000ff;\">SELECT</span> CustomerID <span style=\"color: #0000ff;\">FROM</span> Orders);"
            ],
            "metadata": {
                "azdata_cell_guid": "440a1da1-9286-4634-b464-8254b42e2097"
            },
            "attachments": {}
        },
        {
            "cell_type": "code",
            "source": [
                "SELECT TOP 5 CustomerName\r\n",
                "FROM Customers\r\n",
                "WHERE CustomerID NOT IN (SELECT CustomerID FROM Orders);"
            ],
            "metadata": {
                "azdata_cell_guid": "82f9ea70-bfa7-4026-8ee3-ba9572d75489",
                "language": "sql"
            },
            "outputs": [
                {
                    "output_type": "display_data",
                    "data": {
                        "text/html": "(5 rows affected)"
                    },
                    "metadata": {}
                },
                {
                    "output_type": "display_data",
                    "data": {
                        "text/html": "Total execution time: 00:00:00.018"
                    },
                    "metadata": {}
                },
                {
                    "output_type": "execute_result",
                    "execution_count": 16,
                    "data": {
                        "application/vnd.dataresource+json": {
                            "data": [
                                {
                                    "CustomerName": "Alfreds Futterkiste"
                                },
                                {
                                    "CustomerName": "Blauer See Delikatessen"
                                },
                                {
                                    "CustomerName": "Cactus Comidas para llevar"
                                },
                                {
                                    "CustomerName": "FISSA Fabrica Inter. Salchichas S.A."
                                },
                                {
                                    "CustomerName": "France restauration"
                                }
                            ],
                            "schema": {
                                "fields": [
                                    {
                                        "name": "CustomerName"
                                    }
                                ]
                            }
                        },
                        "text/html": "<table><tr><th>CustomerName</th></tr><tr><td>Alfreds Futterkiste</td></tr><tr><td>Blauer See Delikatessen</td></tr><tr><td>Cactus Comidas para llevar</td></tr><tr><td>FISSA Fabrica Inter. Salchichas S.A.</td></tr><tr><td>France restauration</td></tr></table>"
                    },
                    "metadata": {}
                }
            ],
            "execution_count": 16
        },
        {
            "cell_type": "markdown",
            "source": [
                "## **<u>21\\. Using ROW\\_NUMBER() for Ranking</u>**"
            ],
            "metadata": {
                "azdata_cell_guid": "d6387a42-1d00-4eab-937b-158329bbe42a"
            },
            "attachments": {}
        },
        {
            "cell_type": "markdown",
            "source": [
                "**Use Case:** Looking to showcase your most expensive products? This query ranks the top five products by price, giving you a quick view of the high-end items that might catch your customers' attention!\n",
                "\n",
                "**Explanation:**\n",
                "\n",
                "- Here ROW\\_NUMBER() assigns a rank to each product based on its price in descending order.\n",
                "\n",
                "(Time to flaunt your luxury items—because who doesn’t love a little bling in their catalog? 💎✨)"
            ],
            "metadata": {
                "azdata_cell_guid": "93277a20-64df-4bb4-bc02-43f0f259da87"
            },
            "attachments": {}
        },
        {
            "cell_type": "markdown",
            "source": [
                "**CODE:**\n",
                "\n",
                "<span style=\"color: #0000ff;\">SELECT</span> ProductName, Price,\n",
                "\n",
                "       <span style=\"color: #795e26;\">ROW_NUMBER</span>() <span style=\"color: #0000ff;\">OVER</span> (<span style=\"color: #0000ff;\">ORDER BY</span> Price <span style=\"color: #0000ff;\">DESC</span>) <span style=\"color: #0000ff;\">AS</span> Rank\n",
                "\n",
                "<span style=\"color: #0000ff;\">FROM</span> Products;"
            ],
            "metadata": {
                "azdata_cell_guid": "79d05e0c-7462-4885-97d7-2334d99d5aec"
            },
            "attachments": {}
        },
        {
            "cell_type": "code",
            "source": [
                "SELECT TOP 5 ProductName, Price, \r\n",
                "       ROW_NUMBER() OVER (ORDER BY Price DESC) AS Rank\r\n",
                "FROM Products;"
            ],
            "metadata": {
                "azdata_cell_guid": "3b102ca0-fbd1-4139-8bb4-0280894b526c",
                "language": "sql"
            },
            "outputs": [
                {
                    "output_type": "display_data",
                    "data": {
                        "text/html": "(5 rows affected)"
                    },
                    "metadata": {}
                },
                {
                    "output_type": "display_data",
                    "data": {
                        "text/html": "Total execution time: 00:00:00.013"
                    },
                    "metadata": {}
                },
                {
                    "output_type": "execute_result",
                    "execution_count": 17,
                    "data": {
                        "application/vnd.dataresource+json": {
                            "data": [
                                {
                                    "Price": "263.50",
                                    "ProductName": "Côte de Blaye",
                                    "Rank": "1"
                                },
                                {
                                    "Price": "123.79",
                                    "ProductName": "Thüringer Rostbratwurst",
                                    "Rank": "2"
                                },
                                {
                                    "Price": "97.00",
                                    "ProductName": "Mishi Kobe Niku",
                                    "Rank": "3"
                                },
                                {
                                    "Price": "81.00",
                                    "ProductName": "Sir Rodney's Marmalade",
                                    "Rank": "4"
                                },
                                {
                                    "Price": "62.50",
                                    "ProductName": "Carnarvon Tigers",
                                    "Rank": "5"
                                }
                            ],
                            "schema": {
                                "fields": [
                                    {
                                        "name": "ProductName"
                                    },
                                    {
                                        "name": "Price"
                                    },
                                    {
                                        "name": "Rank"
                                    }
                                ]
                            }
                        },
                        "text/html": "<table><tr><th>ProductName</th><th>Price</th><th>Rank</th></tr><tr><td>Côte de Blaye</td><td>263.50</td><td>1</td></tr><tr><td>Thüringer Rostbratwurst</td><td>123.79</td><td>2</td></tr><tr><td>Mishi Kobe Niku</td><td>97.00</td><td>3</td></tr><tr><td>Sir Rodney&#39;s Marmalade</td><td>81.00</td><td>4</td></tr><tr><td>Carnarvon Tigers</td><td>62.50</td><td>5</td></tr></table>"
                    },
                    "metadata": {}
                }
            ],
            "execution_count": 17
        },
        {
            "cell_type": "markdown",
            "source": [
                "## **<u>22\\. Using COUNT with CASE for Conditional Counts</u>**"
            ],
            "metadata": {
                "azdata_cell_guid": "478e7578-c558-4e3b-8440-72a0fcf84f9e"
            },
            "attachments": {}
        },
        {
            "cell_type": "markdown",
            "source": [
                "**Use Case:** Want to see which countries are buzzing with orders? This query reveals the top five countries along with the count of customers who have placed orders, helping you focus your marketing efforts on the most engaged regions!\n",
                "\n",
                "**Explanation:**\n",
                "\n",
                "- COUNT with CASE counts customers with orders in each country.\n",
                "- LEFT JOIN joins the Customers table with the Orders table to include all customers, even those without orders.\n",
                "- GROUP BY groups the results by country for accurate counting.\n",
                "\n",
                "(Let’s find out where the action is—because every good business knows its hotspots! 🌍📈)"
            ],
            "metadata": {
                "azdata_cell_guid": "edc70e1a-c78b-4c77-ad47-00210e12b4b5"
            },
            "attachments": {}
        },
        {
            "cell_type": "markdown",
            "source": [
                "**CODE:**\n",
                "\n",
                "<span style=\"color: #0000ff;\">SELECT</span> Country,\n",
                "\n",
                "       <span style=\"color: #795e26;\">COUNT</span>(<span style=\"color: #0000ff;\">CASE</span> <span style=\"color: #0000ff;\">WHEN</span> O.CustomerID <span style=\"color: #0000ff;\">IS NOT NULL</span> <span style=\"color: #0000ff;\">THEN</span> <span style=\"color: #09885a;\">1</span> <span style=\"color: #0000ff;\">END</span>) <span style=\"color: #0000ff;\">AS</span> CustomersWithOrders\n",
                "\n",
                "<span style=\"color: #0000ff;\">FROM</span> Customers C\n",
                "\n",
                "<span style=\"color: #0000ff;\">LEFT JOIN</span> Orders O <span style=\"color: #0000ff;\">ON</span> C.CustomerID <span style=\"color: #000000;\">=</span> O.CustomerID\n",
                "\n",
                "<span style=\"color: #0000ff;\">GROUP BY</span> Country;"
            ],
            "metadata": {
                "azdata_cell_guid": "ae0ec398-2b3f-4914-86c8-cad78ef34fff"
            },
            "attachments": {}
        },
        {
            "cell_type": "code",
            "source": [
                "SELECT TOP 5 Country, \r\n",
                "       COUNT(CASE WHEN O.CustomerID IS NOT NULL THEN 1 END) AS CustomersWithOrders\r\n",
                "FROM Customers C\r\n",
                "LEFT JOIN Orders O ON C.CustomerID = O.CustomerID\r\n",
                "GROUP BY Country;"
            ],
            "metadata": {
                "azdata_cell_guid": "6b66fc17-2c22-41f6-8f5a-828277fc8454",
                "language": "sql"
            },
            "outputs": [
                {
                    "output_type": "display_data",
                    "data": {
                        "text/html": "Warning: Null value is eliminated by an aggregate or other SET operation."
                    },
                    "metadata": {}
                },
                {
                    "output_type": "display_data",
                    "data": {
                        "text/html": "(5 rows affected)"
                    },
                    "metadata": {}
                },
                {
                    "output_type": "display_data",
                    "data": {
                        "text/html": "Total execution time: 00:00:00.022"
                    },
                    "metadata": {}
                },
                {
                    "output_type": "execute_result",
                    "execution_count": 19,
                    "data": {
                        "application/vnd.dataresource+json": {
                            "data": [
                                {
                                    "Country": "Argentina",
                                    "CustomersWithOrders": "1"
                                },
                                {
                                    "Country": "Austria",
                                    "CustomersWithOrders": "13"
                                },
                                {
                                    "Country": "Belgium",
                                    "CustomersWithOrders": "2"
                                },
                                {
                                    "Country": "Brazil",
                                    "CustomersWithOrders": "19"
                                },
                                {
                                    "Country": "Canada",
                                    "CustomersWithOrders": "9"
                                }
                            ],
                            "schema": {
                                "fields": [
                                    {
                                        "name": "Country"
                                    },
                                    {
                                        "name": "CustomersWithOrders"
                                    }
                                ]
                            }
                        },
                        "text/html": "<table><tr><th>Country</th><th>CustomersWithOrders</th></tr><tr><td>Argentina</td><td>1</td></tr><tr><td>Austria</td><td>13</td></tr><tr><td>Belgium</td><td>2</td></tr><tr><td>Brazil</td><td>19</td></tr><tr><td>Canada</td><td>9</td></tr></table>"
                    },
                    "metadata": {}
                }
            ],
            "execution_count": 19
        },
        {
            "cell_type": "markdown",
            "source": [
                "## **<u>23\\. Using IN for Multiple Values</u>**"
            ],
            "metadata": {
                "azdata_cell_guid": "cb125515-0104-46cc-bce3-0c813459be32"
            },
            "attachments": {}
        },
        {
            "cell_type": "markdown",
            "source": [
                "**Use Case:** Curious about your customers in key markets? This query fetches the top five customers from Germany, the USA, and the UK, helping you tailor your marketing strategies for these important regions!\n",
                "\n",
                "**Explanation:**\n",
                "\n",
                "- WHERE and IN filters the results to include only customers from the specified countries.\n",
                "\n",
                "(Let’s give a shout-out to your customers in the big three—because knowing your audience is half the battle! 🇩🇪🇺🇸🇬🇧)"
            ],
            "metadata": {
                "azdata_cell_guid": "a5fc7751-b9e8-4a5d-8e6e-bde2439e86be"
            },
            "attachments": {}
        },
        {
            "cell_type": "markdown",
            "source": [
                "**CODE:**\n",
                "\n",
                "<span style=\"color: #0000ff;\">SELECT</span> CustomerName, Country\n",
                "\n",
                "<span style=\"color: #0000ff;\">FROM</span> Customers\n",
                "\n",
                "<span style=\"color: #0000ff;\">WHERE</span> Country <span style=\"color: #0000ff;\">IN</span> (<span style=\"color: #a31515;\">'Germany'</span>, <span style=\"color: #a31515;\">'USA'</span>, <span style=\"color: #a31515;\">'UK'</span>);"
            ],
            "metadata": {
                "azdata_cell_guid": "9f3841d4-56b0-4be2-88b5-03ec5ec914a9"
            },
            "attachments": {}
        },
        {
            "cell_type": "code",
            "source": [
                "SELECT TOP 5 CustomerName, Country\r\n",
                "FROM Customers\r\n",
                "WHERE Country IN ('Germany', 'USA', 'UK');"
            ],
            "metadata": {
                "azdata_cell_guid": "40febaf0-9ba5-4f05-be1a-9eabddc114c2",
                "language": "sql"
            },
            "outputs": [
                {
                    "output_type": "display_data",
                    "data": {
                        "text/html": "(5 rows affected)"
                    },
                    "metadata": {}
                },
                {
                    "output_type": "display_data",
                    "data": {
                        "text/html": "Total execution time: 00:00:00.014"
                    },
                    "metadata": {}
                },
                {
                    "output_type": "execute_result",
                    "execution_count": 20,
                    "data": {
                        "application/vnd.dataresource+json": {
                            "data": [
                                {
                                    "Country": "Germany",
                                    "CustomerName": "Alfreds Futterkiste"
                                },
                                {
                                    "Country": "UK",
                                    "CustomerName": "Around the Horn"
                                },
                                {
                                    "Country": "Germany",
                                    "CustomerName": "Blauer See Delikatessen"
                                },
                                {
                                    "Country": "UK",
                                    "CustomerName": "B's Beverages"
                                },
                                {
                                    "Country": "UK",
                                    "CustomerName": "Consolidated Holdings"
                                }
                            ],
                            "schema": {
                                "fields": [
                                    {
                                        "name": "CustomerName"
                                    },
                                    {
                                        "name": "Country"
                                    }
                                ]
                            }
                        },
                        "text/html": "<table><tr><th>CustomerName</th><th>Country</th></tr><tr><td>Alfreds Futterkiste</td><td>Germany</td></tr><tr><td>Around the Horn</td><td>UK</td></tr><tr><td>Blauer See Delikatessen</td><td>Germany</td></tr><tr><td>B&#39;s Beverages</td><td>UK</td></tr><tr><td>Consolidated Holdings</td><td>UK</td></tr></table>"
                    },
                    "metadata": {}
                }
            ],
            "execution_count": 20
        },
        {
            "cell_type": "markdown",
            "source": [
                "## **<u>24\\. Using AND to Filter Orders</u>**"
            ],
            "metadata": {
                "azdata_cell_guid": "b3e53df2-97ac-45c5-bec8-58e0487f902d"
            },
            "attachments": {}
        },
        {
            "cell_type": "markdown",
            "source": [
                "**Use Case:** Want to track down orders shipped to London by your speedy courier? This query retrieves orders from customers in London that were sent via \"Speedy Express,\" making it perfect for monitoring service efficiency!\n",
                "\n",
                "**Explanation:**\n",
                "\n",
                "- First JOIN links orders to customer information.\n",
                "- Second JOIN links orders to shipping company details.\n",
                "- WHERE and AND filters results for orders shipped to London by \"Speedy Express.\"\n",
                "\n",
                "(Let’s get those speedy orders on your radar—because who doesn’t love a swift delivery? 🚚💨)"
            ],
            "metadata": {
                "azdata_cell_guid": "aafc6111-8d61-4f0e-bd2e-48dd40572560"
            },
            "attachments": {}
        },
        {
            "cell_type": "markdown",
            "source": [
                "**CODE:**  \n",
                "\n",
                "<span style=\"color: #0000ff;\">SELECT</span> o.OrderID, c.CustomerName, s.ShipperName, o.OrderDate\n",
                "\n",
                "<span style=\"color: #0000ff;\">FROM</span> Orders o\n",
                "\n",
                "<span style=\"color: #0000ff;\">JOIN</span> Customers c <span style=\"color: #0000ff;\">ON</span> o.CustomerID <span style=\"color: #000000;\">=</span> c.CustomerID\n",
                "\n",
                "<span style=\"color: #0000ff;\">JOIN</span> Shippers s <span style=\"color: #0000ff;\">ON</span> o.ShipperID <span style=\"color: #000000;\">=</span> s.ShipperID\n",
                "\n",
                "<span style=\"color: #0000ff;\">WHERE</span> c.City <span style=\"color: #000000;\">=</span> <span style=\"color: #a31515;\">'London'</span> <span style=\"color: #0000ff;\">AND</span> s.ShipperName <span style=\"color: #000000;\">=</span> <span style=\"color: #a31515;\">'Speedy Express'</span>;"
            ],
            "metadata": {
                "azdata_cell_guid": "86ab3859-dbb0-4564-8709-0b3b16594fe3"
            },
            "attachments": {}
        },
        {
            "cell_type": "code",
            "source": [
                "SELECT o.OrderID, c.CustomerName, s.ShipperName, o.OrderDate\r\n",
                "FROM Orders o\r\n",
                "JOIN Customers c ON o.CustomerID = c.CustomerID\r\n",
                "JOIN Shippers s ON o.ShipperID = s.ShipperID\r\n",
                "WHERE c.City = 'London' AND s.ShipperName = 'Speedy Express';"
            ],
            "metadata": {
                "azdata_cell_guid": "1969861a-3f98-44b3-8d31-9d6e9a937ddc",
                "language": "sql"
            },
            "outputs": [
                {
                    "output_type": "display_data",
                    "data": {
                        "text/html": "(3 rows affected)"
                    },
                    "metadata": {}
                },
                {
                    "output_type": "display_data",
                    "data": {
                        "text/html": "Total execution time: 00:00:00.021"
                    },
                    "metadata": {}
                },
                {
                    "output_type": "execute_result",
                    "execution_count": 49,
                    "data": {
                        "application/vnd.dataresource+json": {
                            "data": [
                                {
                                    "CustomerName": "Around the Horn",
                                    "OrderDate": "1996-11-15",
                                    "OrderID": "10355",
                                    "ShipperName": "Speedy Express"
                                },
                                {
                                    "CustomerName": "Eastern Connection",
                                    "OrderDate": "1996-11-26",
                                    "OrderID": "10364",
                                    "ShipperName": "Speedy Express"
                                },
                                {
                                    "CustomerName": "Seven Seas Imports",
                                    "OrderDate": "1996-12-19",
                                    "OrderID": "10388",
                                    "ShipperName": "Speedy Express"
                                }
                            ],
                            "schema": {
                                "fields": [
                                    {
                                        "name": "OrderID"
                                    },
                                    {
                                        "name": "CustomerName"
                                    },
                                    {
                                        "name": "ShipperName"
                                    },
                                    {
                                        "name": "OrderDate"
                                    }
                                ]
                            }
                        },
                        "text/html": "<table><tr><th>OrderID</th><th>CustomerName</th><th>ShipperName</th><th>OrderDate</th></tr><tr><td>10355</td><td>Around the Horn</td><td>Speedy Express</td><td>1996-11-15</td></tr><tr><td>10364</td><td>Eastern Connection</td><td>Speedy Express</td><td>1996-11-26</td></tr><tr><td>10388</td><td>Seven Seas Imports</td><td>Speedy Express</td><td>1996-12-19</td></tr></table>"
                    },
                    "metadata": {}
                }
            ],
            "execution_count": 49
        },
        {
            "cell_type": "markdown",
            "source": [
                "## **<u>25\\. Using MIN and MAX to find Price Range</u>**"
            ],
            "metadata": {
                "azdata_cell_guid": "fa700e32-c2f6-489e-98c7-0c55cbb03137"
            },
            "attachments": {}
        },
        {
            "cell_type": "markdown",
            "source": [
                "**Use Case:** Want to dive into your beverage pricing? This query reveals the minimum and maximum prices for products in the \"Beverages\" category, helping you understand your price range and make informed pricing decisions!\n",
                "\n",
                "**Explanation:**\n",
                "\n",
                "- JOIN links products to their respective categories.\n",
                "- MIN and MAX gives you the Minimum and Maximum Price.\n",
                "- WHERE filters results to focus solely on the \"Beverages\" category.\n",
                "- GROUP BY groups the results by category name for accurate price calculations.\n",
                "\n",
                "(Think of it as your beverage price report card—let’s see how well your drinks stack up! 🍹📊)"
            ],
            "metadata": {
                "azdata_cell_guid": "01aecdaf-b567-4e07-93eb-9a590ab79956"
            },
            "attachments": {}
        },
        {
            "cell_type": "markdown",
            "source": [
                "**CODE:**  \n",
                "\n",
                "<span style=\"color: #0000ff;\">SELECT</span> c.CategoryName, <span style=\"color: #795e26;\">MIN</span>(p.Price) <span style=\"color: #0000ff;\">AS</span> MinPrice, <span style=\"color: #795e26;\">MAX</span>(p.Price) <span style=\"color: #0000ff;\">AS</span> MaxPrice\n",
                "\n",
                "<span style=\"color: #0000ff;\">FROM</span> Products p\n",
                "\n",
                "<span style=\"color: #0000ff;\">JOIN</span> Categories c <span style=\"color: #0000ff;\">ON</span> p.CategoryID <span style=\"color: #000000;\">=</span> c.CategoryID\n",
                "\n",
                "<span style=\"color: #0000ff;\">WHERE</span> c.CategoryName <span style=\"color: #000000;\">=</span> <span style=\"color: #a31515;\">'Beverages'</span>\n",
                "\n",
                "<span style=\"color: #0000ff;\">GROUP BY</span> c.CategoryName;"
            ],
            "metadata": {
                "azdata_cell_guid": "de8c59f0-290d-4150-85dc-37eaf2550985"
            },
            "attachments": {}
        },
        {
            "cell_type": "code",
            "source": [
                "SELECT c.CategoryName, MIN(p.Price) AS MinPrice, MAX(p.Price) AS MaxPrice\r\n",
                "FROM Products p\r\n",
                "JOIN Categories c ON p.CategoryID = c.CategoryID\r\n",
                "WHERE c.CategoryName = 'Beverages'\r\n",
                "GROUP BY c.CategoryName;"
            ],
            "metadata": {
                "azdata_cell_guid": "0fc20d12-b191-4dbc-96d5-b275af915fec",
                "language": "sql"
            },
            "outputs": [
                {
                    "output_type": "display_data",
                    "data": {
                        "text/html": "(1 row affected)"
                    },
                    "metadata": {}
                },
                {
                    "output_type": "display_data",
                    "data": {
                        "text/html": "Total execution time: 00:00:00.017"
                    },
                    "metadata": {}
                },
                {
                    "output_type": "execute_result",
                    "execution_count": 50,
                    "data": {
                        "application/vnd.dataresource+json": {
                            "data": [
                                {
                                    "CategoryName": "Beverages",
                                    "MaxPrice": "263.50",
                                    "MinPrice": "4.50"
                                }
                            ],
                            "schema": {
                                "fields": [
                                    {
                                        "name": "CategoryName"
                                    },
                                    {
                                        "name": "MinPrice"
                                    },
                                    {
                                        "name": "MaxPrice"
                                    }
                                ]
                            }
                        },
                        "text/html": "<table><tr><th>CategoryName</th><th>MinPrice</th><th>MaxPrice</th></tr><tr><td>Beverages</td><td>4.50</td><td>263.50</td></tr></table>"
                    },
                    "metadata": {}
                }
            ],
            "execution_count": 50
        }
    ]
}